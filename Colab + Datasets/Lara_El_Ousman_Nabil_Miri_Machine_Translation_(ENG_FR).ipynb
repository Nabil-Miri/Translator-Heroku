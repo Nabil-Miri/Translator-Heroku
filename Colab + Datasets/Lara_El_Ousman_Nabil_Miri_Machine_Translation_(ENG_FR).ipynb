{
  "cells": [
    {
      "cell_type": "markdown",
      "metadata": {
        "id": "xiC75uo6u_Of"
      },
      "source": [
        "##Machine Translation Using a Seq2Seq Architecture\n",
        "© 2022 Zaka AI, Inc. All Rights Reserved.\n",
        "\n",
        "---\n",
        "The goal of this colab is to get you more familiar with the Seq2Seq models and their challenges. For this reason, you will be working on machine translation problem where we would have a sentence as input (in english), and the output is gonna be the translated sentence (in french). So just like what happens with Google Translate.\n"
      ]
    },
    {
      "cell_type": "markdown",
      "metadata": {
        "id": "TeK4LPupvg_c"
      },
      "source": [
        "**Just to give you a heads up:** We won't be having a model performing like Google translate, but at least we will have an idea about how Google Translate works and the challenges that exist with a translation problem.  "
      ]
    },
    {
      "cell_type": "markdown",
      "metadata": {
        "id": "SBTvDTzBv293"
      },
      "source": [
        "## Importing Libraries"
      ]
    },
    {
      "cell_type": "markdown",
      "metadata": {
        "id": "4_j1ZzS3v6N3"
      },
      "source": [
        "We start by importing numpy and pandas and then we can add the rest"
      ]
    },
    {
      "cell_type": "code",
      "execution_count": null,
      "metadata": {
        "id": "n0IARXAX1e1m"
      },
      "outputs": [],
      "source": [
        "import pandas as pd\n",
        "import numpy as np\n",
        "import re\n",
        "import string #used in removing punctuation\n",
        "from tensorflow.keras.preprocessing.text import Tokenizer\n",
        "from tensorflow.keras.preprocessing.sequence import pad_sequences\n",
        "from tensorflow.keras.models import Sequential\n",
        "from tensorflow.keras.layers import Embedding, LSTM, Dense, Dropout, TimeDistributed, RepeatVector, Bidirectional\n",
        "from tensorflow.keras.utils import plot_model\n",
        "from tensorflow.keras.callbacks import EarlyStopping\n",
        "import tensorflow as tf\n",
        "from google.colab import files"
      ]
    },
    {
      "cell_type": "code",
      "execution_count": null,
      "metadata": {
        "colab": {
          "base_uri": "https://localhost:8080/"
        },
        "id": "hNFBdD5Om_c3",
        "outputId": "2fa16b9f-2574-4fdb-b901-e2ee0be1acd8"
      },
      "outputs": [
        {
          "name": "stdout",
          "output_type": "stream",
          "text": [
            "\u001b[K     |████████████████████████████████| 1.4 MB 28.1 MB/s \n",
            "\u001b[K     |████████████████████████████████| 45 kB 3.3 MB/s \n",
            "\u001b[K     |████████████████████████████████| 11.2 MB 59.4 MB/s \n",
            "\u001b[K     |████████████████████████████████| 51 kB 7.5 MB/s \n",
            "\u001b[33mWARNING: igwn-auth-utils 0.3.1 does not provide the extra 'requests'\u001b[0m\n",
            "\u001b[K     |████████████████████████████████| 4.0 MB 61.6 MB/s \n",
            "\u001b[K     |████████████████████████████████| 959 kB 65.4 MB/s \n",
            "\u001b[?25h  Building wheel for ligo-segments (setup.py) ... \u001b[?25l\u001b[?25hdone\n",
            "\u001b[K     |████████████████████████████████| 1.6 MB 51.1 MB/s \n",
            "\u001b[?25h"
          ]
        }
      ],
      "source": [
        "!pip install gwpy --quiet\n",
        "!pip install livelossplot --quiet\n",
        "from livelossplot import PlotLossesKeras"
      ]
    },
    {
      "cell_type": "code",
      "execution_count": null,
      "metadata": {
        "colab": {
          "base_uri": "https://localhost:8080/",
          "height": 623
        },
        "id": "Z5Eia0aNnFbp",
        "outputId": "39f168dd-1f36-4ccc-b29f-b3c6f35f6d89"
      },
      "outputs": [
        {
          "name": "stdout",
          "output_type": "stream",
          "text": [
            "Found existing installation: matplotlib 3.5.3\n",
            "Uninstalling matplotlib-3.5.3:\n",
            "  Would remove:\n",
            "    /usr/local/lib/python3.7/dist-packages/matplotlib-3.5.3-py3.7-nspkg.pth\n",
            "    /usr/local/lib/python3.7/dist-packages/matplotlib-3.5.3.dist-info/*\n",
            "    /usr/local/lib/python3.7/dist-packages/matplotlib/*\n",
            "    /usr/local/lib/python3.7/dist-packages/mpl_toolkits/axes_grid/*\n",
            "    /usr/local/lib/python3.7/dist-packages/mpl_toolkits/axes_grid1/*\n",
            "    /usr/local/lib/python3.7/dist-packages/mpl_toolkits/axisartist/*\n",
            "    /usr/local/lib/python3.7/dist-packages/mpl_toolkits/mplot3d/*\n",
            "    /usr/local/lib/python3.7/dist-packages/mpl_toolkits/tests/*\n",
            "    /usr/local/lib/python3.7/dist-packages/pylab.py\n",
            "Proceed (y/n)? y\n",
            "\n",
            "  Successfully uninstalled matplotlib-3.5.3\n",
            "Looking in indexes: https://pypi.org/simple, https://us-python.pkg.dev/colab-wheels/public/simple/\n",
            "Collecting matplotlib==3.1.3\n",
            "  Downloading matplotlib-3.1.3-cp37-cp37m-manylinux1_x86_64.whl (13.1 MB)\n",
            "\u001b[K     |████████████████████████████████| 13.1 MB 30.9 MB/s \n",
            "\u001b[?25hRequirement already satisfied: python-dateutil>=2.1 in /usr/local/lib/python3.7/dist-packages (from matplotlib==3.1.3) (2.8.2)\n",
            "Requirement already satisfied: numpy>=1.11 in /usr/local/lib/python3.7/dist-packages (from matplotlib==3.1.3) (1.21.6)\n",
            "Requirement already satisfied: pyparsing!=2.0.4,!=2.1.2,!=2.1.6,>=2.0.1 in /usr/local/lib/python3.7/dist-packages (from matplotlib==3.1.3) (3.0.9)\n",
            "Requirement already satisfied: kiwisolver>=1.0.1 in /usr/local/lib/python3.7/dist-packages (from matplotlib==3.1.3) (1.4.4)\n",
            "Requirement already satisfied: cycler>=0.10 in /usr/local/lib/python3.7/dist-packages (from matplotlib==3.1.3) (0.11.0)\n",
            "Requirement already satisfied: typing-extensions in /usr/local/lib/python3.7/dist-packages (from kiwisolver>=1.0.1->matplotlib==3.1.3) (4.1.1)\n",
            "Requirement already satisfied: six>=1.5 in /usr/local/lib/python3.7/dist-packages (from python-dateutil>=2.1->matplotlib==3.1.3) (1.15.0)\n",
            "Installing collected packages: matplotlib\n",
            "\u001b[31mERROR: pip's dependency resolver does not currently take into account all the packages that are installed. This behaviour is the source of the following dependency conflicts.\n",
            "gwpy 2.1.5 requires matplotlib>=3.3.0, but you have matplotlib 3.1.3 which is incompatible.\u001b[0m\n",
            "Successfully installed matplotlib-3.1.3\n"
          ]
        },
        {
          "data": {
            "application/vnd.colab-display-data+json": {
              "pip_warning": {
                "packages": [
                  "matplotlib",
                  "mpl_toolkits"
                ]
              }
            }
          },
          "metadata": {},
          "output_type": "display_data"
        }
      ],
      "source": [
        "# # Using PLT Library in general was not working and this solution worked\n",
        "import matplotlib\n",
        "if matplotlib.__version__ != '3.1.3' :\n",
        "  ! pip uninstall matplotlib\n",
        "  ! pip install matplotlib==3.1.3"
      ]
    },
    {
      "cell_type": "markdown",
      "metadata": {
        "id": "vAcLqZ7uv-SJ"
      },
      "source": [
        "We clone the github repository where our data exists. Here is the github link: https://github.com/zaka-ai/machine_learning_certification/tree/main/Challenge%207 "
      ]
    },
    {
      "cell_type": "markdown",
      "metadata": {
        "id": "i3hLN42axOjn"
      },
      "source": [
        "## Getting the data"
      ]
    },
    {
      "cell_type": "code",
      "execution_count": null,
      "metadata": {
        "id": "0-M7cFxTPpqy"
      },
      "outputs": [],
      "source": [
        "df_en = pd.read_csv('https://raw.githubusercontent.com/zaka-ai/machine_learning_certification/main/Challenge%207/en.csv', header = None)\n",
        "df_fr = pd.read_csv('https://raw.githubusercontent.com/zaka-ai/machine_learning_certification/main/Challenge%207/fr.csv', header = None)"
      ]
    },
    {
      "cell_type": "markdown",
      "metadata": {
        "id": "BaPr0N8cwGAv"
      },
      "source": [
        "We read the english sentences in a dataframe named \"english\", and the french sentences in a dataframe named \"french\""
      ]
    },
    {
      "cell_type": "code",
      "execution_count": null,
      "metadata": {
        "colab": {
          "base_uri": "https://localhost:8080/",
          "height": 206
        },
        "id": "kFj8gkP01lGT",
        "outputId": "eb059dc4-710c-4e9a-c333-3e8972219aa9"
      },
      "outputs": [
        {
          "output_type": "execute_result",
          "data": {
            "text/plain": [
              "                                             english\n",
              "0  new jersey is sometimes quiet during autumn , ...\n",
              "1  the united states is usually chilly during jul...\n",
              "2  california is usually quiet during march , and...\n",
              "3  the united states is sometimes mild during jun...\n",
              "4  your least liked fruit is the grape , but my l..."
            ],
            "text/html": [
              "\n",
              "  <div id=\"df-3192c942-a77a-4ce8-9de6-a21c459f1c37\">\n",
              "    <div class=\"colab-df-container\">\n",
              "      <div>\n",
              "<style scoped>\n",
              "    .dataframe tbody tr th:only-of-type {\n",
              "        vertical-align: middle;\n",
              "    }\n",
              "\n",
              "    .dataframe tbody tr th {\n",
              "        vertical-align: top;\n",
              "    }\n",
              "\n",
              "    .dataframe thead th {\n",
              "        text-align: right;\n",
              "    }\n",
              "</style>\n",
              "<table border=\"1\" class=\"dataframe\">\n",
              "  <thead>\n",
              "    <tr style=\"text-align: right;\">\n",
              "      <th></th>\n",
              "      <th>english</th>\n",
              "    </tr>\n",
              "  </thead>\n",
              "  <tbody>\n",
              "    <tr>\n",
              "      <th>0</th>\n",
              "      <td>new jersey is sometimes quiet during autumn , ...</td>\n",
              "    </tr>\n",
              "    <tr>\n",
              "      <th>1</th>\n",
              "      <td>the united states is usually chilly during jul...</td>\n",
              "    </tr>\n",
              "    <tr>\n",
              "      <th>2</th>\n",
              "      <td>california is usually quiet during march , and...</td>\n",
              "    </tr>\n",
              "    <tr>\n",
              "      <th>3</th>\n",
              "      <td>the united states is sometimes mild during jun...</td>\n",
              "    </tr>\n",
              "    <tr>\n",
              "      <th>4</th>\n",
              "      <td>your least liked fruit is the grape , but my l...</td>\n",
              "    </tr>\n",
              "  </tbody>\n",
              "</table>\n",
              "</div>\n",
              "      <button class=\"colab-df-convert\" onclick=\"convertToInteractive('df-3192c942-a77a-4ce8-9de6-a21c459f1c37')\"\n",
              "              title=\"Convert this dataframe to an interactive table.\"\n",
              "              style=\"display:none;\">\n",
              "        \n",
              "  <svg xmlns=\"http://www.w3.org/2000/svg\" height=\"24px\"viewBox=\"0 0 24 24\"\n",
              "       width=\"24px\">\n",
              "    <path d=\"M0 0h24v24H0V0z\" fill=\"none\"/>\n",
              "    <path d=\"M18.56 5.44l.94 2.06.94-2.06 2.06-.94-2.06-.94-.94-2.06-.94 2.06-2.06.94zm-11 1L8.5 8.5l.94-2.06 2.06-.94-2.06-.94L8.5 2.5l-.94 2.06-2.06.94zm10 10l.94 2.06.94-2.06 2.06-.94-2.06-.94-.94-2.06-.94 2.06-2.06.94z\"/><path d=\"M17.41 7.96l-1.37-1.37c-.4-.4-.92-.59-1.43-.59-.52 0-1.04.2-1.43.59L10.3 9.45l-7.72 7.72c-.78.78-.78 2.05 0 2.83L4 21.41c.39.39.9.59 1.41.59.51 0 1.02-.2 1.41-.59l7.78-7.78 2.81-2.81c.8-.78.8-2.07 0-2.86zM5.41 20L4 18.59l7.72-7.72 1.47 1.35L5.41 20z\"/>\n",
              "  </svg>\n",
              "      </button>\n",
              "      \n",
              "  <style>\n",
              "    .colab-df-container {\n",
              "      display:flex;\n",
              "      flex-wrap:wrap;\n",
              "      gap: 12px;\n",
              "    }\n",
              "\n",
              "    .colab-df-convert {\n",
              "      background-color: #E8F0FE;\n",
              "      border: none;\n",
              "      border-radius: 50%;\n",
              "      cursor: pointer;\n",
              "      display: none;\n",
              "      fill: #1967D2;\n",
              "      height: 32px;\n",
              "      padding: 0 0 0 0;\n",
              "      width: 32px;\n",
              "    }\n",
              "\n",
              "    .colab-df-convert:hover {\n",
              "      background-color: #E2EBFA;\n",
              "      box-shadow: 0px 1px 2px rgba(60, 64, 67, 0.3), 0px 1px 3px 1px rgba(60, 64, 67, 0.15);\n",
              "      fill: #174EA6;\n",
              "    }\n",
              "\n",
              "    [theme=dark] .colab-df-convert {\n",
              "      background-color: #3B4455;\n",
              "      fill: #D2E3FC;\n",
              "    }\n",
              "\n",
              "    [theme=dark] .colab-df-convert:hover {\n",
              "      background-color: #434B5C;\n",
              "      box-shadow: 0px 1px 3px 1px rgba(0, 0, 0, 0.15);\n",
              "      filter: drop-shadow(0px 1px 2px rgba(0, 0, 0, 0.3));\n",
              "      fill: #FFFFFF;\n",
              "    }\n",
              "  </style>\n",
              "\n",
              "      <script>\n",
              "        const buttonEl =\n",
              "          document.querySelector('#df-3192c942-a77a-4ce8-9de6-a21c459f1c37 button.colab-df-convert');\n",
              "        buttonEl.style.display =\n",
              "          google.colab.kernel.accessAllowed ? 'block' : 'none';\n",
              "\n",
              "        async function convertToInteractive(key) {\n",
              "          const element = document.querySelector('#df-3192c942-a77a-4ce8-9de6-a21c459f1c37');\n",
              "          const dataTable =\n",
              "            await google.colab.kernel.invokeFunction('convertToInteractive',\n",
              "                                                     [key], {});\n",
              "          if (!dataTable) return;\n",
              "\n",
              "          const docLinkHtml = 'Like what you see? Visit the ' +\n",
              "            '<a target=\"_blank\" href=https://colab.research.google.com/notebooks/data_table.ipynb>data table notebook</a>'\n",
              "            + ' to learn more about interactive tables.';\n",
              "          element.innerHTML = '';\n",
              "          dataTable['output_type'] = 'display_data';\n",
              "          await google.colab.output.renderOutput(dataTable, element);\n",
              "          const docLink = document.createElement('div');\n",
              "          docLink.innerHTML = docLinkHtml;\n",
              "          element.appendChild(docLink);\n",
              "        }\n",
              "      </script>\n",
              "    </div>\n",
              "  </div>\n",
              "  "
            ]
          },
          "metadata": {},
          "execution_count": 3
        }
      ],
      "source": [
        "#Test Your Zaka (English)\n",
        "df_en.columns = ['english']\n",
        "df_en.head()"
      ]
    },
    {
      "cell_type": "code",
      "execution_count": null,
      "metadata": {
        "colab": {
          "base_uri": "https://localhost:8080/",
          "height": 206
        },
        "id": "P4A7ZKt32A7s",
        "outputId": "f95fefca-c7f7-4ed8-fdc2-710942103aed"
      },
      "outputs": [
        {
          "output_type": "execute_result",
          "data": {
            "text/plain": [
              "                                              french\n",
              "0  new jersey est parfois calme pendant l' automn...\n",
              "1  les états-unis est généralement froid en juill...\n",
              "2  california est généralement calme en mars , et...\n",
              "3  les états-unis est parfois légère en juin , et...\n",
              "4  votre moins aimé fruit est le raisin , mais mo..."
            ],
            "text/html": [
              "\n",
              "  <div id=\"df-0fe77342-813a-40b8-a2ce-f23345df5bb4\">\n",
              "    <div class=\"colab-df-container\">\n",
              "      <div>\n",
              "<style scoped>\n",
              "    .dataframe tbody tr th:only-of-type {\n",
              "        vertical-align: middle;\n",
              "    }\n",
              "\n",
              "    .dataframe tbody tr th {\n",
              "        vertical-align: top;\n",
              "    }\n",
              "\n",
              "    .dataframe thead th {\n",
              "        text-align: right;\n",
              "    }\n",
              "</style>\n",
              "<table border=\"1\" class=\"dataframe\">\n",
              "  <thead>\n",
              "    <tr style=\"text-align: right;\">\n",
              "      <th></th>\n",
              "      <th>french</th>\n",
              "    </tr>\n",
              "  </thead>\n",
              "  <tbody>\n",
              "    <tr>\n",
              "      <th>0</th>\n",
              "      <td>new jersey est parfois calme pendant l' automn...</td>\n",
              "    </tr>\n",
              "    <tr>\n",
              "      <th>1</th>\n",
              "      <td>les états-unis est généralement froid en juill...</td>\n",
              "    </tr>\n",
              "    <tr>\n",
              "      <th>2</th>\n",
              "      <td>california est généralement calme en mars , et...</td>\n",
              "    </tr>\n",
              "    <tr>\n",
              "      <th>3</th>\n",
              "      <td>les états-unis est parfois légère en juin , et...</td>\n",
              "    </tr>\n",
              "    <tr>\n",
              "      <th>4</th>\n",
              "      <td>votre moins aimé fruit est le raisin , mais mo...</td>\n",
              "    </tr>\n",
              "  </tbody>\n",
              "</table>\n",
              "</div>\n",
              "      <button class=\"colab-df-convert\" onclick=\"convertToInteractive('df-0fe77342-813a-40b8-a2ce-f23345df5bb4')\"\n",
              "              title=\"Convert this dataframe to an interactive table.\"\n",
              "              style=\"display:none;\">\n",
              "        \n",
              "  <svg xmlns=\"http://www.w3.org/2000/svg\" height=\"24px\"viewBox=\"0 0 24 24\"\n",
              "       width=\"24px\">\n",
              "    <path d=\"M0 0h24v24H0V0z\" fill=\"none\"/>\n",
              "    <path d=\"M18.56 5.44l.94 2.06.94-2.06 2.06-.94-2.06-.94-.94-2.06-.94 2.06-2.06.94zm-11 1L8.5 8.5l.94-2.06 2.06-.94-2.06-.94L8.5 2.5l-.94 2.06-2.06.94zm10 10l.94 2.06.94-2.06 2.06-.94-2.06-.94-.94-2.06-.94 2.06-2.06.94z\"/><path d=\"M17.41 7.96l-1.37-1.37c-.4-.4-.92-.59-1.43-.59-.52 0-1.04.2-1.43.59L10.3 9.45l-7.72 7.72c-.78.78-.78 2.05 0 2.83L4 21.41c.39.39.9.59 1.41.59.51 0 1.02-.2 1.41-.59l7.78-7.78 2.81-2.81c.8-.78.8-2.07 0-2.86zM5.41 20L4 18.59l7.72-7.72 1.47 1.35L5.41 20z\"/>\n",
              "  </svg>\n",
              "      </button>\n",
              "      \n",
              "  <style>\n",
              "    .colab-df-container {\n",
              "      display:flex;\n",
              "      flex-wrap:wrap;\n",
              "      gap: 12px;\n",
              "    }\n",
              "\n",
              "    .colab-df-convert {\n",
              "      background-color: #E8F0FE;\n",
              "      border: none;\n",
              "      border-radius: 50%;\n",
              "      cursor: pointer;\n",
              "      display: none;\n",
              "      fill: #1967D2;\n",
              "      height: 32px;\n",
              "      padding: 0 0 0 0;\n",
              "      width: 32px;\n",
              "    }\n",
              "\n",
              "    .colab-df-convert:hover {\n",
              "      background-color: #E2EBFA;\n",
              "      box-shadow: 0px 1px 2px rgba(60, 64, 67, 0.3), 0px 1px 3px 1px rgba(60, 64, 67, 0.15);\n",
              "      fill: #174EA6;\n",
              "    }\n",
              "\n",
              "    [theme=dark] .colab-df-convert {\n",
              "      background-color: #3B4455;\n",
              "      fill: #D2E3FC;\n",
              "    }\n",
              "\n",
              "    [theme=dark] .colab-df-convert:hover {\n",
              "      background-color: #434B5C;\n",
              "      box-shadow: 0px 1px 3px 1px rgba(0, 0, 0, 0.15);\n",
              "      filter: drop-shadow(0px 1px 2px rgba(0, 0, 0, 0.3));\n",
              "      fill: #FFFFFF;\n",
              "    }\n",
              "  </style>\n",
              "\n",
              "      <script>\n",
              "        const buttonEl =\n",
              "          document.querySelector('#df-0fe77342-813a-40b8-a2ce-f23345df5bb4 button.colab-df-convert');\n",
              "        buttonEl.style.display =\n",
              "          google.colab.kernel.accessAllowed ? 'block' : 'none';\n",
              "\n",
              "        async function convertToInteractive(key) {\n",
              "          const element = document.querySelector('#df-0fe77342-813a-40b8-a2ce-f23345df5bb4');\n",
              "          const dataTable =\n",
              "            await google.colab.kernel.invokeFunction('convertToInteractive',\n",
              "                                                     [key], {});\n",
              "          if (!dataTable) return;\n",
              "\n",
              "          const docLinkHtml = 'Like what you see? Visit the ' +\n",
              "            '<a target=\"_blank\" href=https://colab.research.google.com/notebooks/data_table.ipynb>data table notebook</a>'\n",
              "            + ' to learn more about interactive tables.';\n",
              "          element.innerHTML = '';\n",
              "          dataTable['output_type'] = 'display_data';\n",
              "          await google.colab.output.renderOutput(dataTable, element);\n",
              "          const docLink = document.createElement('div');\n",
              "          docLink.innerHTML = docLinkHtml;\n",
              "          element.appendChild(docLink);\n",
              "        }\n",
              "      </script>\n",
              "    </div>\n",
              "  </div>\n",
              "  "
            ]
          },
          "metadata": {},
          "execution_count": 4
        }
      ],
      "source": [
        "#Test Your Zaka (French)\n",
        "df_fr.columns = ['french']\n",
        "df_fr.head()"
      ]
    },
    {
      "cell_type": "markdown",
      "metadata": {
        "id": "jr8OO1OhwSp4"
      },
      "source": [
        "**How many sentences does each of the files contain?**"
      ]
    },
    {
      "cell_type": "code",
      "execution_count": null,
      "metadata": {
        "colab": {
          "base_uri": "https://localhost:8080/"
        },
        "id": "XhWJP-b02HKq",
        "outputId": "b69312f5-d8af-4c76-c2c1-1cfccc36ae05"
      },
      "outputs": [
        {
          "output_type": "stream",
          "name": "stdout",
          "text": [
            "137860\n"
          ]
        },
        {
          "output_type": "execute_result",
          "data": {
            "text/plain": [
              "137860"
            ]
          },
          "metadata": {},
          "execution_count": 5
        }
      ],
      "source": [
        "#Test Your Zaka\n",
        "print(len(df_en))\n",
        "len(df_fr)"
      ]
    },
    {
      "cell_type": "markdown",
      "metadata": {
        "id": "ITGJN5tIwkDO"
      },
      "source": [
        "Now let us concatenate the 2 dataframes into one dataframe that we call **df** where one column has the english senetnces and the other has the french sentences"
      ]
    },
    {
      "cell_type": "code",
      "execution_count": null,
      "metadata": {
        "colab": {
          "base_uri": "https://localhost:8080/",
          "height": 206
        },
        "id": "-ZXxahsB2njn",
        "outputId": "e9dbcc90-959d-4669-db17-f72cb3790c0a"
      },
      "outputs": [
        {
          "output_type": "execute_result",
          "data": {
            "text/plain": [
              "                                             english  \\\n",
              "0  new jersey is sometimes quiet during autumn , ...   \n",
              "1  the united states is usually chilly during jul...   \n",
              "2  california is usually quiet during march , and...   \n",
              "3  the united states is sometimes mild during jun...   \n",
              "4  your least liked fruit is the grape , but my l...   \n",
              "\n",
              "                                              french  \n",
              "0  new jersey est parfois calme pendant l' automn...  \n",
              "1  les états-unis est généralement froid en juill...  \n",
              "2  california est généralement calme en mars , et...  \n",
              "3  les états-unis est parfois légère en juin , et...  \n",
              "4  votre moins aimé fruit est le raisin , mais mo...  "
            ],
            "text/html": [
              "\n",
              "  <div id=\"df-c9cfa58b-7886-46b0-b4ed-75b24366d052\">\n",
              "    <div class=\"colab-df-container\">\n",
              "      <div>\n",
              "<style scoped>\n",
              "    .dataframe tbody tr th:only-of-type {\n",
              "        vertical-align: middle;\n",
              "    }\n",
              "\n",
              "    .dataframe tbody tr th {\n",
              "        vertical-align: top;\n",
              "    }\n",
              "\n",
              "    .dataframe thead th {\n",
              "        text-align: right;\n",
              "    }\n",
              "</style>\n",
              "<table border=\"1\" class=\"dataframe\">\n",
              "  <thead>\n",
              "    <tr style=\"text-align: right;\">\n",
              "      <th></th>\n",
              "      <th>english</th>\n",
              "      <th>french</th>\n",
              "    </tr>\n",
              "  </thead>\n",
              "  <tbody>\n",
              "    <tr>\n",
              "      <th>0</th>\n",
              "      <td>new jersey is sometimes quiet during autumn , ...</td>\n",
              "      <td>new jersey est parfois calme pendant l' automn...</td>\n",
              "    </tr>\n",
              "    <tr>\n",
              "      <th>1</th>\n",
              "      <td>the united states is usually chilly during jul...</td>\n",
              "      <td>les états-unis est généralement froid en juill...</td>\n",
              "    </tr>\n",
              "    <tr>\n",
              "      <th>2</th>\n",
              "      <td>california is usually quiet during march , and...</td>\n",
              "      <td>california est généralement calme en mars , et...</td>\n",
              "    </tr>\n",
              "    <tr>\n",
              "      <th>3</th>\n",
              "      <td>the united states is sometimes mild during jun...</td>\n",
              "      <td>les états-unis est parfois légère en juin , et...</td>\n",
              "    </tr>\n",
              "    <tr>\n",
              "      <th>4</th>\n",
              "      <td>your least liked fruit is the grape , but my l...</td>\n",
              "      <td>votre moins aimé fruit est le raisin , mais mo...</td>\n",
              "    </tr>\n",
              "  </tbody>\n",
              "</table>\n",
              "</div>\n",
              "      <button class=\"colab-df-convert\" onclick=\"convertToInteractive('df-c9cfa58b-7886-46b0-b4ed-75b24366d052')\"\n",
              "              title=\"Convert this dataframe to an interactive table.\"\n",
              "              style=\"display:none;\">\n",
              "        \n",
              "  <svg xmlns=\"http://www.w3.org/2000/svg\" height=\"24px\"viewBox=\"0 0 24 24\"\n",
              "       width=\"24px\">\n",
              "    <path d=\"M0 0h24v24H0V0z\" fill=\"none\"/>\n",
              "    <path d=\"M18.56 5.44l.94 2.06.94-2.06 2.06-.94-2.06-.94-.94-2.06-.94 2.06-2.06.94zm-11 1L8.5 8.5l.94-2.06 2.06-.94-2.06-.94L8.5 2.5l-.94 2.06-2.06.94zm10 10l.94 2.06.94-2.06 2.06-.94-2.06-.94-.94-2.06-.94 2.06-2.06.94z\"/><path d=\"M17.41 7.96l-1.37-1.37c-.4-.4-.92-.59-1.43-.59-.52 0-1.04.2-1.43.59L10.3 9.45l-7.72 7.72c-.78.78-.78 2.05 0 2.83L4 21.41c.39.39.9.59 1.41.59.51 0 1.02-.2 1.41-.59l7.78-7.78 2.81-2.81c.8-.78.8-2.07 0-2.86zM5.41 20L4 18.59l7.72-7.72 1.47 1.35L5.41 20z\"/>\n",
              "  </svg>\n",
              "      </button>\n",
              "      \n",
              "  <style>\n",
              "    .colab-df-container {\n",
              "      display:flex;\n",
              "      flex-wrap:wrap;\n",
              "      gap: 12px;\n",
              "    }\n",
              "\n",
              "    .colab-df-convert {\n",
              "      background-color: #E8F0FE;\n",
              "      border: none;\n",
              "      border-radius: 50%;\n",
              "      cursor: pointer;\n",
              "      display: none;\n",
              "      fill: #1967D2;\n",
              "      height: 32px;\n",
              "      padding: 0 0 0 0;\n",
              "      width: 32px;\n",
              "    }\n",
              "\n",
              "    .colab-df-convert:hover {\n",
              "      background-color: #E2EBFA;\n",
              "      box-shadow: 0px 1px 2px rgba(60, 64, 67, 0.3), 0px 1px 3px 1px rgba(60, 64, 67, 0.15);\n",
              "      fill: #174EA6;\n",
              "    }\n",
              "\n",
              "    [theme=dark] .colab-df-convert {\n",
              "      background-color: #3B4455;\n",
              "      fill: #D2E3FC;\n",
              "    }\n",
              "\n",
              "    [theme=dark] .colab-df-convert:hover {\n",
              "      background-color: #434B5C;\n",
              "      box-shadow: 0px 1px 3px 1px rgba(0, 0, 0, 0.15);\n",
              "      filter: drop-shadow(0px 1px 2px rgba(0, 0, 0, 0.3));\n",
              "      fill: #FFFFFF;\n",
              "    }\n",
              "  </style>\n",
              "\n",
              "      <script>\n",
              "        const buttonEl =\n",
              "          document.querySelector('#df-c9cfa58b-7886-46b0-b4ed-75b24366d052 button.colab-df-convert');\n",
              "        buttonEl.style.display =\n",
              "          google.colab.kernel.accessAllowed ? 'block' : 'none';\n",
              "\n",
              "        async function convertToInteractive(key) {\n",
              "          const element = document.querySelector('#df-c9cfa58b-7886-46b0-b4ed-75b24366d052');\n",
              "          const dataTable =\n",
              "            await google.colab.kernel.invokeFunction('convertToInteractive',\n",
              "                                                     [key], {});\n",
              "          if (!dataTable) return;\n",
              "\n",
              "          const docLinkHtml = 'Like what you see? Visit the ' +\n",
              "            '<a target=\"_blank\" href=https://colab.research.google.com/notebooks/data_table.ipynb>data table notebook</a>'\n",
              "            + ' to learn more about interactive tables.';\n",
              "          element.innerHTML = '';\n",
              "          dataTable['output_type'] = 'display_data';\n",
              "          await google.colab.output.renderOutput(dataTable, element);\n",
              "          const docLink = document.createElement('div');\n",
              "          docLink.innerHTML = docLinkHtml;\n",
              "          element.appendChild(docLink);\n",
              "        }\n",
              "      </script>\n",
              "    </div>\n",
              "  </div>\n",
              "  "
            ]
          },
          "metadata": {},
          "execution_count": 6
        }
      ],
      "source": [
        "#Test Your Zaka\n",
        "# del df\n",
        "df = pd.concat([df_en, df_fr], axis = 1)\n",
        "# df = df.sort_values(by=['english', 'french']).reset_index(drop=True)\n",
        "df.head()"
      ]
    },
    {
      "cell_type": "markdown",
      "metadata": {
        "id": "nAr_caXkwwE7"
      },
      "source": [
        "Let's name the columns as **English** and **French** so that we access them easier."
      ]
    },
    {
      "cell_type": "code",
      "execution_count": null,
      "metadata": {
        "id": "eOHiQDXx3jFS"
      },
      "outputs": [],
      "source": [
        "#Test Your Zaka\n",
        "#DONE"
      ]
    },
    {
      "cell_type": "markdown",
      "metadata": {
        "id": "4xc1TsEHw9yC"
      },
      "source": [
        "Pick a sentence and print it in both languages"
      ]
    },
    {
      "cell_type": "code",
      "execution_count": null,
      "metadata": {
        "colab": {
          "base_uri": "https://localhost:8080/"
        },
        "id": "QuRVWch23ujo",
        "outputId": "fda28fab-a507-41e7-8101-018503704335"
      },
      "outputs": [
        {
          "name": "stdout",
          "output_type": "stream",
          "text": [
            "English: the united states is usually chilly during july , and it is usually freezing in november .\n",
            "French les états-unis est généralement froid en juillet , et il gèle habituellement en novembre .\n"
          ]
        }
      ],
      "source": [
        "#Test Your Zaka\n",
        "print(f'English: {df.english[1]}')\n",
        "print(f'French {df.french[1]}')"
      ]
    },
    {
      "cell_type": "markdown",
      "metadata": {
        "id": "FQjXYP1txFCi"
      },
      "source": [
        "##Cleaning Data"
      ]
    },
    {
      "cell_type": "markdown",
      "metadata": {
        "id": "xgz6jIoVxHUF"
      },
      "source": [
        "The data that we have is almost clean as we can see, we just need to remove the punctuations inside of it."
      ]
    },
    {
      "cell_type": "code",
      "execution_count": null,
      "metadata": {
        "colab": {
          "base_uri": "https://localhost:8080/"
        },
        "id": "Rg0YhR0vVWZK",
        "outputId": "b464013e-00f3-461d-e579-3e9c1fea3ec1"
      },
      "outputs": [
        {
          "output_type": "stream",
          "name": "stdout",
          "text": [
            "English: the united states is usually chilly during july   and it is usually freezing in november  \n",
            "French les  tats unis est g n ralement froid en juillet   et il g le habituellement en novembre  \n"
          ]
        }
      ],
      "source": [
        "df.english = df.english.apply(lambda x : re.sub(r'[^a-z]', ' ', x))\n",
        "french_test = df.french.apply(lambda x : re.sub(r'[^a-z]', ' ', x))\n",
        "#Test Your Zaka\n",
        "print(f'English: {df.english[1]}')\n",
        "print(f'French {french_test[1]}')"
      ]
    },
    {
      "cell_type": "markdown",
      "metadata": {
        "id": "b68CP0V0bYpV"
      },
      "source": [
        "It was successful on the english text but **didnt** work with the **french** sentence. As we can notice, letters with special characters such as the acute **accent** é etc are removed. Thus, we used **string** library."
      ]
    },
    {
      "cell_type": "code",
      "execution_count": null,
      "metadata": {
        "colab": {
          "base_uri": "https://localhost:8080/"
        },
        "id": "x6pFKrJNcmZY",
        "outputId": "74d88107-8475-4749-f266-cbb8a6c657e4"
      },
      "outputs": [
        {
          "output_type": "stream",
          "name": "stdout",
          "text": [
            "!\"#$%&'()*+,-./:;<=>?@[\\]^_`{|}~\n"
          ]
        }
      ],
      "source": [
        "print(string.punctuation)\n",
        "t=[]\n",
        "sen = []\n",
        "for sentence in df.french:\n",
        "  for word in sentence.split():\n",
        "    sen.append(''.join( word.strip(string.punctuation)))\n",
        "  t.append(' '.join(sen))\n",
        "  sen = []\n",
        "df.french = t"
      ]
    },
    {
      "cell_type": "markdown",
      "metadata": {
        "id": "0C1qsC9LxZPb"
      },
      "source": [
        "Make sure that the punctuation is removed by printing the example that you printed earlier."
      ]
    },
    {
      "cell_type": "code",
      "execution_count": null,
      "metadata": {
        "colab": {
          "base_uri": "https://localhost:8080/"
        },
        "id": "T80tiWxe84G7",
        "outputId": "97255e7e-8049-469c-ee4e-867aa8dcb09b"
      },
      "outputs": [
        {
          "name": "stdout",
          "output_type": "stream",
          "text": [
            "English: the united states is usually chilly during july   and it is usually freezing in november  \n",
            "French les états-unis est généralement froid en juillet  et il gèle habituellement en novembre \n"
          ]
        }
      ],
      "source": [
        "#Test Your Zaka\n",
        "print(f'English: {df.english[1]}')\n",
        "print(f'French {df.french[1]}')"
      ]
    },
    {
      "cell_type": "markdown",
      "metadata": {
        "id": "ZuFNjoBAx4oN"
      },
      "source": [
        "##Exploring the Data"
      ]
    },
    {
      "cell_type": "markdown",
      "metadata": {
        "id": "ATfefzPExi2k"
      },
      "source": [
        "Add a column **ENG Length** to the dataset that shows how many words does a sentence contain, and do the same for french in a column called **FR Length**"
      ]
    },
    {
      "cell_type": "code",
      "execution_count": null,
      "metadata": {
        "colab": {
          "base_uri": "https://localhost:8080/",
          "height": 424
        },
        "id": "Dakeo81s352S",
        "outputId": "f8a5240f-3e0b-4023-e8c8-189a2d2a1801"
      },
      "outputs": [
        {
          "output_type": "execute_result",
          "data": {
            "text/plain": [
              "                                                  english  \\\n",
              "0       new jersey is sometimes quiet during autumn   ...   \n",
              "1       the united states is usually chilly during jul...   \n",
              "2       california is usually quiet during march   and...   \n",
              "3       the united states is sometimes mild during jun...   \n",
              "4       your least liked fruit is the grape   but my l...   \n",
              "...                                                   ...   \n",
              "137855  france is never busy during march   and it is ...   \n",
              "137856  india is sometimes beautiful during spring   a...   \n",
              "137857  india is never wet during summer   but it is s...   \n",
              "137858  france is never chilly during january   but it...   \n",
              "137859  the orange is her favorite fruit   but the ban...   \n",
              "\n",
              "                                                   french  eng_length  \\\n",
              "0       new jersey est parfois calme pendant l automne...          13   \n",
              "1       les états-unis est généralement froid en juill...          15   \n",
              "2       california est généralement calme en mars  et ...          13   \n",
              "3       les états-unis est parfois légère en juin  et ...          14   \n",
              "4       votre moins aimé fruit est le raisin  mais mon...          14   \n",
              "...                                                   ...         ...   \n",
              "137855  la france est jamais occupée en mars  et il es...          13   \n",
              "137856  l inde est parfois belle au printemps  et il e...          12   \n",
              "137857  l inde est jamais mouillé pendant l été  mais ...          13   \n",
              "137858  la france est jamais froid en janvier  mais il...          13   \n",
              "137859  l'orange est son fruit préféré  mais la banane...          12   \n",
              "\n",
              "        fr_length  \n",
              "0              14  \n",
              "1              13  \n",
              "2              13  \n",
              "3              13  \n",
              "4              14  \n",
              "...           ...  \n",
              "137855         14  \n",
              "137856         13  \n",
              "137857         15  \n",
              "137858         14  \n",
              "137859         11  \n",
              "\n",
              "[137860 rows x 4 columns]"
            ],
            "text/html": [
              "\n",
              "  <div id=\"df-1d2923de-9640-44f6-85aa-94a68b2bb110\">\n",
              "    <div class=\"colab-df-container\">\n",
              "      <div>\n",
              "<style scoped>\n",
              "    .dataframe tbody tr th:only-of-type {\n",
              "        vertical-align: middle;\n",
              "    }\n",
              "\n",
              "    .dataframe tbody tr th {\n",
              "        vertical-align: top;\n",
              "    }\n",
              "\n",
              "    .dataframe thead th {\n",
              "        text-align: right;\n",
              "    }\n",
              "</style>\n",
              "<table border=\"1\" class=\"dataframe\">\n",
              "  <thead>\n",
              "    <tr style=\"text-align: right;\">\n",
              "      <th></th>\n",
              "      <th>english</th>\n",
              "      <th>french</th>\n",
              "      <th>eng_length</th>\n",
              "      <th>fr_length</th>\n",
              "    </tr>\n",
              "  </thead>\n",
              "  <tbody>\n",
              "    <tr>\n",
              "      <th>0</th>\n",
              "      <td>new jersey is sometimes quiet during autumn   ...</td>\n",
              "      <td>new jersey est parfois calme pendant l automne...</td>\n",
              "      <td>13</td>\n",
              "      <td>14</td>\n",
              "    </tr>\n",
              "    <tr>\n",
              "      <th>1</th>\n",
              "      <td>the united states is usually chilly during jul...</td>\n",
              "      <td>les états-unis est généralement froid en juill...</td>\n",
              "      <td>15</td>\n",
              "      <td>13</td>\n",
              "    </tr>\n",
              "    <tr>\n",
              "      <th>2</th>\n",
              "      <td>california is usually quiet during march   and...</td>\n",
              "      <td>california est généralement calme en mars  et ...</td>\n",
              "      <td>13</td>\n",
              "      <td>13</td>\n",
              "    </tr>\n",
              "    <tr>\n",
              "      <th>3</th>\n",
              "      <td>the united states is sometimes mild during jun...</td>\n",
              "      <td>les états-unis est parfois légère en juin  et ...</td>\n",
              "      <td>14</td>\n",
              "      <td>13</td>\n",
              "    </tr>\n",
              "    <tr>\n",
              "      <th>4</th>\n",
              "      <td>your least liked fruit is the grape   but my l...</td>\n",
              "      <td>votre moins aimé fruit est le raisin  mais mon...</td>\n",
              "      <td>14</td>\n",
              "      <td>14</td>\n",
              "    </tr>\n",
              "    <tr>\n",
              "      <th>...</th>\n",
              "      <td>...</td>\n",
              "      <td>...</td>\n",
              "      <td>...</td>\n",
              "      <td>...</td>\n",
              "    </tr>\n",
              "    <tr>\n",
              "      <th>137855</th>\n",
              "      <td>france is never busy during march   and it is ...</td>\n",
              "      <td>la france est jamais occupée en mars  et il es...</td>\n",
              "      <td>13</td>\n",
              "      <td>14</td>\n",
              "    </tr>\n",
              "    <tr>\n",
              "      <th>137856</th>\n",
              "      <td>india is sometimes beautiful during spring   a...</td>\n",
              "      <td>l inde est parfois belle au printemps  et il e...</td>\n",
              "      <td>12</td>\n",
              "      <td>13</td>\n",
              "    </tr>\n",
              "    <tr>\n",
              "      <th>137857</th>\n",
              "      <td>india is never wet during summer   but it is s...</td>\n",
              "      <td>l inde est jamais mouillé pendant l été  mais ...</td>\n",
              "      <td>13</td>\n",
              "      <td>15</td>\n",
              "    </tr>\n",
              "    <tr>\n",
              "      <th>137858</th>\n",
              "      <td>france is never chilly during january   but it...</td>\n",
              "      <td>la france est jamais froid en janvier  mais il...</td>\n",
              "      <td>13</td>\n",
              "      <td>14</td>\n",
              "    </tr>\n",
              "    <tr>\n",
              "      <th>137859</th>\n",
              "      <td>the orange is her favorite fruit   but the ban...</td>\n",
              "      <td>l'orange est son fruit préféré  mais la banane...</td>\n",
              "      <td>12</td>\n",
              "      <td>11</td>\n",
              "    </tr>\n",
              "  </tbody>\n",
              "</table>\n",
              "<p>137860 rows × 4 columns</p>\n",
              "</div>\n",
              "      <button class=\"colab-df-convert\" onclick=\"convertToInteractive('df-1d2923de-9640-44f6-85aa-94a68b2bb110')\"\n",
              "              title=\"Convert this dataframe to an interactive table.\"\n",
              "              style=\"display:none;\">\n",
              "        \n",
              "  <svg xmlns=\"http://www.w3.org/2000/svg\" height=\"24px\"viewBox=\"0 0 24 24\"\n",
              "       width=\"24px\">\n",
              "    <path d=\"M0 0h24v24H0V0z\" fill=\"none\"/>\n",
              "    <path d=\"M18.56 5.44l.94 2.06.94-2.06 2.06-.94-2.06-.94-.94-2.06-.94 2.06-2.06.94zm-11 1L8.5 8.5l.94-2.06 2.06-.94-2.06-.94L8.5 2.5l-.94 2.06-2.06.94zm10 10l.94 2.06.94-2.06 2.06-.94-2.06-.94-.94-2.06-.94 2.06-2.06.94z\"/><path d=\"M17.41 7.96l-1.37-1.37c-.4-.4-.92-.59-1.43-.59-.52 0-1.04.2-1.43.59L10.3 9.45l-7.72 7.72c-.78.78-.78 2.05 0 2.83L4 21.41c.39.39.9.59 1.41.59.51 0 1.02-.2 1.41-.59l7.78-7.78 2.81-2.81c.8-.78.8-2.07 0-2.86zM5.41 20L4 18.59l7.72-7.72 1.47 1.35L5.41 20z\"/>\n",
              "  </svg>\n",
              "      </button>\n",
              "      \n",
              "  <style>\n",
              "    .colab-df-container {\n",
              "      display:flex;\n",
              "      flex-wrap:wrap;\n",
              "      gap: 12px;\n",
              "    }\n",
              "\n",
              "    .colab-df-convert {\n",
              "      background-color: #E8F0FE;\n",
              "      border: none;\n",
              "      border-radius: 50%;\n",
              "      cursor: pointer;\n",
              "      display: none;\n",
              "      fill: #1967D2;\n",
              "      height: 32px;\n",
              "      padding: 0 0 0 0;\n",
              "      width: 32px;\n",
              "    }\n",
              "\n",
              "    .colab-df-convert:hover {\n",
              "      background-color: #E2EBFA;\n",
              "      box-shadow: 0px 1px 2px rgba(60, 64, 67, 0.3), 0px 1px 3px 1px rgba(60, 64, 67, 0.15);\n",
              "      fill: #174EA6;\n",
              "    }\n",
              "\n",
              "    [theme=dark] .colab-df-convert {\n",
              "      background-color: #3B4455;\n",
              "      fill: #D2E3FC;\n",
              "    }\n",
              "\n",
              "    [theme=dark] .colab-df-convert:hover {\n",
              "      background-color: #434B5C;\n",
              "      box-shadow: 0px 1px 3px 1px rgba(0, 0, 0, 0.15);\n",
              "      filter: drop-shadow(0px 1px 2px rgba(0, 0, 0, 0.3));\n",
              "      fill: #FFFFFF;\n",
              "    }\n",
              "  </style>\n",
              "\n",
              "      <script>\n",
              "        const buttonEl =\n",
              "          document.querySelector('#df-1d2923de-9640-44f6-85aa-94a68b2bb110 button.colab-df-convert');\n",
              "        buttonEl.style.display =\n",
              "          google.colab.kernel.accessAllowed ? 'block' : 'none';\n",
              "\n",
              "        async function convertToInteractive(key) {\n",
              "          const element = document.querySelector('#df-1d2923de-9640-44f6-85aa-94a68b2bb110');\n",
              "          const dataTable =\n",
              "            await google.colab.kernel.invokeFunction('convertToInteractive',\n",
              "                                                     [key], {});\n",
              "          if (!dataTable) return;\n",
              "\n",
              "          const docLinkHtml = 'Like what you see? Visit the ' +\n",
              "            '<a target=\"_blank\" href=https://colab.research.google.com/notebooks/data_table.ipynb>data table notebook</a>'\n",
              "            + ' to learn more about interactive tables.';\n",
              "          element.innerHTML = '';\n",
              "          dataTable['output_type'] = 'display_data';\n",
              "          await google.colab.output.renderOutput(dataTable, element);\n",
              "          const docLink = document.createElement('div');\n",
              "          docLink.innerHTML = docLinkHtml;\n",
              "          element.appendChild(docLink);\n",
              "        }\n",
              "      </script>\n",
              "    </div>\n",
              "  </div>\n",
              "  "
            ]
          },
          "metadata": {},
          "execution_count": 9
        }
      ],
      "source": [
        "#Test Your Zaka\n",
        "df['eng_length'] = df.english.apply(lambda x : len(x.split()))\n",
        "df['fr_length'] = df.french.apply(lambda x : len(x.split()))\n",
        "df"
      ]
    },
    {
      "cell_type": "markdown",
      "metadata": {
        "id": "AjQLW0K5xwx1"
      },
      "source": [
        "Visualize the distribution of the lengths of english sentences and french sentences."
      ]
    },
    {
      "cell_type": "code",
      "execution_count": null,
      "metadata": {
        "colab": {
          "base_uri": "https://localhost:8080/",
          "height": 283
        },
        "id": "_q_UIMJ09L24",
        "outputId": "7e0c3dc4-042c-4464-f295-aeab850183c0"
      },
      "outputs": [
        {
          "data": {
            "text/plain": [
              "<matplotlib.axes._subplots.AxesSubplot at 0x7f4773323110>"
            ]
          },
          "execution_count": 16,
          "metadata": {},
          "output_type": "execute_result"
        },
        {
          "data": {
            "image/png": "[encoded data removed]",
            "text/plain": [
              "<Figure size 432x288 with 1 Axes>"
            ]
          },
          "metadata": {},
          "output_type": "display_data"
        }
      ],
      "source": [
        "#Test Your Zaka\n",
        "df.eng_length.hist()"
      ]
    },
    {
      "cell_type": "code",
      "execution_count": null,
      "metadata": {
        "colab": {
          "base_uri": "https://localhost:8080/",
          "height": 283
        },
        "id": "lLJ0nZrdlmNI",
        "outputId": "55cc94b4-5680-4b65-d262-f81401713f52"
      },
      "outputs": [
        {
          "data": {
            "text/plain": [
              "<matplotlib.axes._subplots.AxesSubplot at 0x7f477680ba90>"
            ]
          },
          "execution_count": 17,
          "metadata": {},
          "output_type": "execute_result"
        },
        {
          "data": {
            "image/png": "[encoded data removed]",
            "text/plain": [
              "<Figure size 432x288 with 1 Axes>"
            ]
          },
          "metadata": {},
          "output_type": "display_data"
        }
      ],
      "source": [
        "#Test Your Zaka\n",
        "df.fr_length.hist()"
      ]
    },
    {
      "cell_type": "markdown",
      "metadata": {
        "id": "BDXb2d9ix9DV"
      },
      "source": [
        "Get the maximum length of an english sentence and the maximum length of a french sentence. "
      ]
    },
    {
      "cell_type": "code",
      "execution_count": null,
      "metadata": {
        "colab": {
          "base_uri": "https://localhost:8080/"
        },
        "id": "BpnBB04U_lHd",
        "outputId": "9adbdc8d-c167-4be6-dd7b-1347255f84f8"
      },
      "outputs": [
        {
          "name": "stdout",
          "output_type": "stream",
          "text": [
            "Max len of eng sentence : 15 and max in fr is : 21\n"
          ]
        }
      ],
      "source": [
        "#Test Your Zaka\n",
        "print(f'Max len of eng sentence : {max(df.eng_length)} and max in fr is : {max(df.fr_length)}')"
      ]
    },
    {
      "cell_type": "markdown",
      "metadata": {
        "id": "s4s-spsRyGJv"
      },
      "source": [
        "##Preprocessing the Data"
      ]
    },
    {
      "cell_type": "markdown",
      "metadata": {
        "id": "N0ZmIT2GyJMU"
      },
      "source": [
        "In order for the data to be fed to the model, it has to be tokenized and padded. "
      ]
    },
    {
      "cell_type": "markdown",
      "metadata": {
        "id": "R0r9z-eErm9H"
      },
      "source": [
        "####Tokenization"
      ]
    },
    {
      "cell_type": "markdown",
      "metadata": {
        "id": "X5L_zkhfyQuX"
      },
      "source": [
        "**To tokenize english and french sentences, we can use only one tokenizer. True or False?**"
      ]
    },
    {
      "cell_type": "markdown",
      "metadata": {
        "id": "1Z0ZcNOeyauD"
      },
      "source": [
        "One us not suitable for both languages as wach one differs than the other in many things such as stopwords etc and both languages has different words."
      ]
    },
    {
      "cell_type": "markdown",
      "metadata": {
        "id": "814mKDFiymcY"
      },
      "source": [
        "Tokenize the sentences that we have."
      ]
    },
    {
      "cell_type": "code",
      "execution_count": null,
      "metadata": {
        "id": "aiXlciqFuQzW"
      },
      "outputs": [],
      "source": [
        "#Test Your Zaka\n",
        "\n",
        "# define your tokenizer\n",
        "tokenizer_eng = Tokenizer()\n",
        "tokenizer_fr = Tokenizer()\n",
        "\n",
        "# assign an index (number) to each word using fit_on_texts function\n",
        "tokenizer_eng.fit_on_texts(df.english)\n",
        "tokenizer_fr.fit_on_texts(df.french)\n",
        "\n",
        "# transform each text to a sequence of integers (to be used later in embeddings layer)\n",
        "eng_token =  tokenizer_eng.texts_to_sequences(df.english)\n",
        "fr_token =  tokenizer_fr.texts_to_sequences(df.french)"
      ]
    },
    {
      "cell_type": "code",
      "execution_count": null,
      "metadata": {
        "colab": {
          "base_uri": "https://localhost:8080/"
        },
        "id": "Y2q0nTSZoFAv",
        "outputId": "f43e2133-82c1-4487-eed6-932f97388a09"
      },
      "outputs": [
        {
          "name": "stdout",
          "output_type": "stream",
          "text": [
            "{'is': 1, 'in': 2, 'it': 3, 'during': 4, 'the': 5, 'but': 6, 'and': 7, 'sometimes': 8, 'usually': 9, 'never': 10, 'favorite': 11, 'least': 12, 'fruit': 13, 'most': 14, 'loved': 15, 'liked': 16, 'new': 17, 'paris': 18, 'india': 19, 'united': 20, 'states': 21, 'california': 22, 'jersey': 23, 'france': 24, 'china': 25, 'he': 26, 'she': 27, 'grapefruit': 28, 'your': 29, 'my': 30, 'his': 31, 'her': 32, 'fall': 33, 'june': 34, 'spring': 35, 'january': 36, 'winter': 37, 'march': 38, 'autumn': 39, 'may': 40, 'nice': 41, 'september': 42, 'july': 43, 'april': 44, 'november': 45, 'summer': 46, 'december': 47, 'february': 48, 'our': 49, 'their': 50, 'freezing': 51, 'pleasant': 52, 'beautiful': 53, 'october': 54, 'snowy': 55, 'warm': 56, 'cold': 57, 'wonderful': 58, 'dry': 59, 'busy': 60, 'august': 61, 'chilly': 62, 'rainy': 63, 'mild': 64, 'wet': 65, 'relaxing': 66, 'quiet': 67, 'hot': 68, 'dislikes': 69, 'likes': 70, 'limes': 71, 'lemons': 72, 'grapes': 73, 'mangoes': 74, 'apples': 75, 'peaches': 76, 'oranges': 77, 'pears': 78, 'strawberries': 79, 'bananas': 80, 'to': 81, 'grape': 82, 'apple': 83, 'orange': 84, 'lemon': 85, 'lime': 86, 'banana': 87, 'mango': 88, 'pear': 89, 'strawberry': 90, 'peach': 91, 'like': 92, 'dislike': 93, 'they': 94, 'that': 95, 'i': 96, 'we': 97, 'you': 98, 'animal': 99, 'a': 100, 'truck': 101, 'car': 102, 'automobile': 103, 'was': 104, 'next': 105, 'go': 106, 'driving': 107, 'visit': 108, 'little': 109, 'big': 110, 'old': 111, 'yellow': 112, 'red': 113, 'rusty': 114, 'blue': 115, 'white': 116, 'black': 117, 'green': 118, 'shiny': 119, 'are': 120, 'last': 121, 'feared': 122, 'animals': 123, 'this': 124, 'plan': 125, 'going': 126, 'saw': 127, 'disliked': 128, 'drives': 129, 'drove': 130, 'between': 131, 'translate': 132, 'plans': 133, 'were': 134, 'went': 135, 'might': 136, 'wanted': 137, 'thinks': 138, 'spanish': 139, 'portuguese': 140, 'chinese': 141, 'english': 142, 'french': 143, 'translating': 144, 'difficult': 145, 'fun': 146, 'easy': 147, 'wants': 148, 'think': 149, 'why': 150, 's': 151, 'did': 152, 'cat': 153, 'shark': 154, 'bird': 155, 'mouse': 156, 'horse': 157, 'elephant': 158, 'dog': 159, 'monkey': 160, 'lion': 161, 'bear': 162, 'rabbit': 163, 'snake': 164, 'when': 165, 'want': 166, 't': 167, 'do': 168, 'how': 169, 'elephants': 170, 'horses': 171, 'dogs': 172, 'sharks': 173, 'snakes': 174, 'cats': 175, 'rabbits': 176, 'monkeys': 177, 'bears': 178, 'birds': 179, 'lions': 180, 'mice': 181, 'didn': 182, 'eiffel': 183, 'tower': 184, 'grocery': 185, 'store': 186, 'football': 187, 'field': 188, 'lake': 189, 'school': 190, 'would': 191, 'aren': 192, 'been': 193, 'weather': 194, 'does': 195, 'has': 196, 'isn': 197, 'am': 198, 'where': 199, 'have': 200}\n"
          ]
        },
        {
          "data": {
            "text/plain": [
              "[5, 20, 21, 1, 9, 62, 4, 43, 7, 3, 1, 9, 51, 2, 45]"
            ]
          },
          "execution_count": 13,
          "metadata": {},
          "output_type": "execute_result"
        }
      ],
      "source": [
        "#Testing\n",
        "print(tokenizer_eng.word_index)\n",
        "eng_token[1]"
      ]
    },
    {
      "cell_type": "markdown",
      "metadata": {
        "id": "aUN01jDXys9B"
      },
      "source": [
        "**How many unique words do we have in english and in french?**"
      ]
    },
    {
      "cell_type": "code",
      "execution_count": null,
      "metadata": {
        "colab": {
          "base_uri": "https://localhost:8080/"
        },
        "id": "1WahkdzKvIlO",
        "outputId": "9870b03e-ebb9-4e58-bb1c-5331d16ef54f"
      },
      "outputs": [
        {
          "name": "stdout",
          "output_type": "stream",
          "text": [
            "There are 200 unique eng words and 344 unique fr words\n"
          ]
        }
      ],
      "source": [
        "#Test Your Zaka\n",
        "print(f'There are {len(tokenizer_eng.word_index)} unique eng words and {len(tokenizer_fr.word_index)} unique fr words')"
      ]
    },
    {
      "cell_type": "markdown",
      "metadata": {
        "id": "g0C2RJjArtJd"
      },
      "source": [
        "####Padding"
      ]
    },
    {
      "cell_type": "markdown",
      "metadata": {
        "id": "vXdTXMo5y8oB"
      },
      "source": [
        "**What should be the length of the sequences that we have after padding?**"
      ]
    },
    {
      "cell_type": "markdown",
      "metadata": {
        "id": "9wtHQsgXzImq"
      },
      "source": [
        "It is based on the longest sentence we have in both languages which is 15 in English and 21 in French"
      ]
    },
    {
      "cell_type": "markdown",
      "metadata": {
        "id": "hRXayRzVzQD4"
      },
      "source": [
        "Perform padding on the sequences that we have."
      ]
    },
    {
      "cell_type": "code",
      "execution_count": null,
      "metadata": {
        "id": "oNdO9EZrxvmN"
      },
      "outputs": [],
      "source": [
        "#Test Your Zaka\n",
        "\n",
        "# apply post-padding to the sequences\n",
        "eng_max_length = max(df.eng_length)\n",
        "fr_max_length = max(df.fr_length)\n",
        "\n",
        "eng_pad = pad_sequences(eng_token, maxlen=eng_max_length, padding='post')\n",
        "fr_pad = pad_sequences(fr_token, maxlen=fr_max_length, padding='post')"
      ]
    },
    {
      "cell_type": "code",
      "execution_count": null,
      "metadata": {
        "colab": {
          "base_uri": "https://localhost:8080/"
        },
        "id": "yU5cITjex_pt",
        "outputId": "9bec0d7c-7fdc-431e-ab85-7ab9d07d05d2"
      },
      "outputs": [
        {
          "name": "stdout",
          "output_type": "stream",
          "text": [
            "[ 4 32 31  1 12 19  2 49  6  3 95 69  2 51  0  0  0  0  0  0  0]\n"
          ]
        },
        {
          "data": {
            "text/plain": [
              "array([101,   1,  12,  67,   2,  45,   6,   3,   1,  12,  21,   2,  41,\n",
              "         0,   0,   0,   0,   0,   0,   0,   0], dtype=int32)"
            ]
          },
          "execution_count": 15,
          "metadata": {},
          "output_type": "execute_result"
        }
      ],
      "source": [
        "print(fr_pad[1])\n",
        "fr_pad[2]"
      ]
    },
    {
      "cell_type": "markdown",
      "metadata": {
        "id": "JxvvVU3ezUHR"
      },
      "source": [
        "##Modeling"
      ]
    },
    {
      "cell_type": "markdown",
      "metadata": {
        "id": "FEKujJUEzVux"
      },
      "source": [
        "After preprrocessing the data, we can build our model. Start by building a baseline architecture relying on one directional RNNs, LSTMs, or GRUs. It will be good to lookup how to build Seq2Seq models, there are some new layers that will help you like RepeatVector and TimeDistributed."
      ]
    },
    {
      "cell_type": "code",
      "execution_count": null,
      "metadata": {
        "id": "B5tWUdwdn1p_"
      },
      "outputs": [],
      "source": [
        "eng_vocab_size = len(tokenizer_eng.word_index) + 1\n",
        "fr_vocab_size = len(tokenizer_fr.word_index) + 1\n",
        "embedding_dim = 256\n",
        "hidden_size = 1024 # Just for testing purposes but not good idea for now to have a big number as the model size could go from few KBs to 100 MBs easily"
      ]
    },
    {
      "cell_type": "code",
      "execution_count": null,
      "metadata": {
        "colab": {
          "base_uri": "https://localhost:8080/"
        },
        "id": "9oydzHkr3zDC",
        "outputId": "d327d576-ff9f-4eb4-add8-08bed0010b66"
      },
      "outputs": [
        {
          "output_type": "stream",
          "name": "stdout",
          "text": [
            "Model: \"sequential\"\n",
            "_________________________________________________________________\n",
            " Layer (type)                Output Shape              Param #   \n",
            "=================================================================\n",
            " embedding (Embedding)       (None, 15, 256)           51456     \n",
            "                                                                 \n",
            " lstm (LSTM)                 (None, 1024)              5246976   \n",
            "                                                                 \n",
            " repeat_vector (RepeatVector  (None, 21, 1024)         0         \n",
            " )                                                               \n",
            "                                                                 \n",
            " lstm_1 (LSTM)               (None, 21, 1024)          8392704   \n",
            "                                                                 \n",
            " time_distributed (TimeDistr  (None, 21, 345)          353625    \n",
            " ibuted)                                                         \n",
            "                                                                 \n",
            "=================================================================\n",
            "Total params: 14,044,761\n",
            "Trainable params: 14,044,761\n",
            "Non-trainable params: 0\n",
            "_________________________________________________________________\n"
          ]
        }
      ],
      "source": [
        "# FILL BLANKS\n",
        "# build the neural network\n",
        "model = Sequential()\n",
        "\n",
        "model.add(Embedding(eng_vocab_size, embedding_dim, input_length=eng_max_length))\n",
        "\n",
        "model.add(LSTM(hidden_size))\n",
        "model.add(RepeatVector(fr_max_length))\n",
        "\n",
        "model.add(LSTM(hidden_size, return_sequences=True))\n",
        "model.add(TimeDistributed(Dense(fr_vocab_size, activation='softmax')))\n",
        "\n",
        "# THere is an error : when we use categorical_crossentropy\n",
        "# Solutions: either use the sparse loss function or do one hot encoding to the input data\n",
        "# the one hot encoding is sparse representation but it is used just when inputting data to the embedding layer thus we keep the dense representation\n",
        "model.compile(loss='sparse_categorical_crossentropy',\n",
        "              optimizer='adam',\n",
        "              metrics=['accuracy'])\n",
        "model.summary()"
      ]
    },
    {
      "cell_type": "code",
      "execution_count": null,
      "metadata": {
        "colab": {
          "base_uri": "https://localhost:8080/",
          "height": 644
        },
        "id": "6IDD64kjuoXJ",
        "outputId": "1a6ede46-6d70-4e51-e836-fe3837c702cc"
      },
      "outputs": [
        {
          "data": {
            "image/png": "[encoded data removed]",
            "text/plain": [
              "<IPython.core.display.Image object>"
            ]
          },
          "execution_count": 26,
          "metadata": {},
          "output_type": "execute_result"
        }
      ],
      "source": [
        "plot_model(model, to_file='model_plot.png', show_shapes=True, show_layer_names=True)"
      ]
    },
    {
      "cell_type": "code",
      "execution_count": null,
      "metadata": {
        "colab": {
          "base_uri": "https://localhost:8080/"
        },
        "id": "uwQhzrbUtOSN",
        "outputId": "748a6b31-7d66-4607-c87a-d4471ef07a84"
      },
      "outputs": [
        {
          "data": {
            "text/plain": [
              "((137860, 15), (137860, 21), 201, 345, 15, 21)"
            ]
          },
          "execution_count": 27,
          "metadata": {},
          "output_type": "execute_result"
        }
      ],
      "source": [
        "eng_pad.shape, fr_pad.shape, eng_vocab_size, fr_vocab_size, eng_max_length, fr_max_length"
      ]
    },
    {
      "cell_type": "markdown",
      "metadata": {
        "id": "aP10HtNBzpT0"
      },
      "source": [
        "Compile and train the model. \n",
        "**FYI:** While specifying the architecture of your model and the number of epochs for training, keeep in your mind that your model might take A LOT of time to train."
      ]
    },
    {
      "cell_type": "markdown",
      "metadata": {
        "id": "sAmUcel0oPL_"
      },
      "source": [
        "We tested several Models which are:\n",
        "- Model1 = normal LSTM\n",
        "- Model2 = 2x Bi LSTM\n",
        "- Model3 = 1x Bi LSTM\n",
        "- Model4 = 1x Bi LSTM + data splitting\n",
        "- Model5 = Stacking BiLSTMs\n",
        "\n",
        "\n",
        "# **Model1 = normal LSTM**"
      ]
    },
    {
      "cell_type": "code",
      "execution_count": null,
      "metadata": {
        "id": "pBghmDiisRd4"
      },
      "outputs": [],
      "source": [
        "# EarlyStopping\n",
        "early_stop = EarlyStopping(monitor='val_loss',\n",
        "                           patience=10,\n",
        "                           restore_best_weights=True,\n",
        "                           mode='min')"
      ]
    },
    {
      "cell_type": "code",
      "execution_count": null,
      "metadata": {
        "colab": {
          "base_uri": "https://localhost:8080/",
          "height": 731
        },
        "id": "lWw4nBNIFp9D",
        "outputId": "e7c5b480-7fd8-4540-b612-5b8e9ed02f1b"
      },
      "outputs": [
        {
          "data": {
            "image/png": "[encoded data removed]",
            "text/plain": [
              "<Figure size 864x576 with 2 Axes>"
            ]
          },
          "metadata": {},
          "output_type": "display_data"
        },
        {
          "name": "stdout",
          "output_type": "stream",
          "text": [
            "accuracy\n",
            "\ttraining         \t (min:    0.708, max:    0.990, cur:    0.990)\n",
            "\tvalidation       \t (min:    0.818, max:    0.983, cur:    0.982)\n",
            "Loss\n",
            "\ttraining         \t (min:    0.032, max:    1.050, cur:    0.032)\n",
            "\tvalidation       \t (min:    0.055, max:    0.552, cur:    0.062)\n",
            "\b\b\b\b\b\b\b\b\b\b\b\b\b\b\b\b\b\b\b\b\b\b\b\b\b\b\b\b\b\b\b\b\b\b\b\b\b\b\b\b\b\b\b\b\b\b\b\b\b\b\b\b\b\b\b\b\b\b\b\b\b\b\b\b\b\b\b\b\b\b\b\b\b\b\b\b\b\b\b\b\b\b\b\b\b\b\r1831/1831 [==============================] - 73s 40ms/step - loss: 0.0318 - accuracy: 0.9897 - val_loss: 0.0616 - val_accuracy: 0.9819\n"
          ]
        },
        {
          "data": {
            "text/plain": [
              "<keras.callbacks.History at 0x7f460e617e10>"
            ]
          },
          "execution_count": 61,
          "metadata": {},
          "output_type": "execute_result"
        }
      ],
      "source": [
        "#Test Your Zaka\n",
        "model.fit(x = eng_pad, y = fr_pad, batch_size = 64, epochs=10, validation_split=0.15, callbacks=[PlotLossesKeras(), early_stop])"
      ]
    },
    {
      "cell_type": "code",
      "execution_count": null,
      "metadata": {
        "id": "xcTeZkl4o3KU"
      },
      "outputs": [],
      "source": [
        "# Saving the model to avoid training it again due to runtime reset:\n",
        "!mkdir -p saved_model"
      ]
    },
    {
      "cell_type": "code",
      "execution_count": null,
      "metadata": {
        "id": "zZlolwEgZX3g"
      },
      "outputs": [],
      "source": [
        "# Naming convention: translation_'model architecture used'_'loss'_'acc'\n",
        "model.save('saved_model/translation_LSTM_0.0375_0.9881.h5') "
      ]
    },
    {
      "cell_type": "code",
      "execution_count": null,
      "metadata": {
        "id": "aML4ot554eNz"
      },
      "outputs": [],
      "source": [
        "#Load the model:\n",
        "new_model = tf.keras.models.load_model('/content/saved_model/translation_LSTM_0.0375_0.9881.h5')\n",
        "\n",
        "# Check its architecture\n",
        "new_model.summary()"
      ]
    },
    {
      "cell_type": "code",
      "execution_count": null,
      "metadata": {
        "id": "E_bI-e_qm0ah"
      },
      "outputs": [],
      "source": [
        "files.download('saved_model/translation_LSTM_0.0375_0.9881.h5') "
      ]
    },
    {
      "cell_type": "markdown",
      "metadata": {
        "id": "9UoEcxyJztiQ"
      },
      "source": [
        "Define a function that gets an input sentence in english and gives the output sentence in the french language."
      ]
    },
    {
      "cell_type": "code",
      "execution_count": null,
      "metadata": {
        "id": "fUU_RdCxYpM6"
      },
      "outputs": [],
      "source": [
        "#Test Your Zaka\n",
        "def translate(eng_sentence):\n",
        "  print(eng_sentence)\n",
        "  \n",
        "  # transform each text to a sequence of integers (to be used later in embeddings layer)\n",
        "  # This line \"sentence_token =  tokenizer_eng.texts_to_sequences(eng_sentence)\" didnt work as it apply tokenization to each word or letter in the string  \n",
        "  # (Based on the documentation it takes each text in texts, so it seems that it considered the input string as texts and divides it )\n",
        "  # As a result, converting the string to a list [] takes the full string as 1 sentence \n",
        "  sentence_token =  tokenizer_eng.texts_to_sequences([eng_sentence])\n",
        "  # print(sentence_token) # [[27, 1, 107, 5, 101]]\n",
        "\n",
        "  sentence_pad = pad_sequences(sentence_token, maxlen=eng_max_length, padding='post')\n",
        "\n",
        "  prediction = model.predict(sentence_pad)\n",
        "  \n",
        "  prediction.shape # (1, 21, 345) = output of the Decoder\n",
        "  translated_words = np.argmax(prediction, axis = 2) # argmax across axis 2 gives us (21, 345) where we have 21 max length sentence and 345 possible word\n",
        "  no_zero = [i for i in translated_words[0] if i != 0] # removing zeros\n",
        "  \n",
        "  translated_sentence = [list(tokenizer_fr.word_index)[word - 1] for word in no_zero]\n",
        "  \n",
        "  translated_sentence = ' '.join(translated_sentence)\n",
        "  return translated_sentence"
      ]
    },
    {
      "cell_type": "markdown",
      "metadata": {
        "id": "XUQIcAjWz3bt"
      },
      "source": [
        "Test the following sentence"
      ]
    },
    {
      "cell_type": "code",
      "execution_count": null,
      "metadata": {
        "colab": {
          "base_uri": "https://localhost:8080/",
          "height": 72
        },
        "id": "fDmNqnZIQMko",
        "outputId": "8a25c234-7e33-4228-daf8-698e81d593f0"
      },
      "outputs": [
        {
          "name": "stdout",
          "output_type": "stream",
          "text": [
            "she is driving the truck\n",
            "she is driving the truck\n"
          ]
        },
        {
          "data": {
            "application/vnd.google.colaboratory.intrinsic+json": {
              "type": "string"
            },
            "text/plain": [
              "'elle conduit le le lac'"
            ]
          },
          "execution_count": 63,
          "metadata": {},
          "output_type": "execute_result"
        }
      ],
      "source": [
        "input = \"she is driving the truck\"\n",
        "print(input)\n",
        "\n",
        "# # A working method to pass the input sentence to tokenizer_eng.texts_to_sequences() directly without using [] brackets\n",
        "# from io import StringIO\n",
        "# t = pd.read_csv(StringIO(input), header = None)\n",
        "# t.columns = ['eng']\n",
        "# t.head()\n",
        "# # print(df.english[1])\n",
        "#Test Your Zaka\n",
        "# translate(t.eng)\n",
        "\n",
        "prediction = translate(input)\n",
        "prediction"
      ]
    },
    {
      "cell_type": "markdown",
      "metadata": {
        "id": "wdI2XhaBz6CN"
      },
      "source": [
        "Try to improve your model by modifying the architecture to take into account bidirectionality which is very useful in Machine Translation. Create a new model called model2\n",
        "\n",
        "# **Model2 = 2x Bidirectional LSTM**"
      ]
    },
    {
      "cell_type": "code",
      "execution_count": null,
      "metadata": {
        "colab": {
          "base_uri": "https://localhost:8080/"
        },
        "id": "Ch28BLsbGnCn",
        "outputId": "72e484af-fc0f-41ea-eeec-022f691b4122"
      },
      "outputs": [
        {
          "name": "stdout",
          "output_type": "stream",
          "text": [
            "Model: \"sequential\"\n",
            "_________________________________________________________________\n",
            " Layer (type)                Output Shape              Param #   \n",
            "=================================================================\n",
            " embedding (Embedding)       (None, 15, 256)           51456     \n",
            "                                                                 \n",
            " bidirectional (Bidirectiona  (None, 2048)             10493952  \n",
            " l)                                                              \n",
            "                                                                 \n",
            " repeat_vector (RepeatVector  (None, 21, 2048)         0         \n",
            " )                                                               \n",
            "                                                                 \n",
            " bidirectional_1 (Bidirectio  (None, 21, 2048)         25174016  \n",
            " nal)                                                            \n",
            "                                                                 \n",
            " time_distributed (TimeDistr  (None, 21, 345)          706905    \n",
            " ibuted)                                                         \n",
            "                                                                 \n",
            "=================================================================\n",
            "Total params: 36,426,329\n",
            "Trainable params: 36,426,329\n",
            "Non-trainable params: 0\n",
            "_________________________________________________________________\n"
          ]
        }
      ],
      "source": [
        "#Test Your Zaka\n",
        "embedding_dim = 256\n",
        "\n",
        "model2 = Sequential()\n",
        "model2.add(Embedding(eng_vocab_size, embedding_dim, input_length=eng_max_length))\n",
        "model2.add(Bidirectional(LSTM(hidden_size)))\n",
        "model2.add(RepeatVector(fr_max_length))\n",
        "model2.add(Bidirectional(LSTM(hidden_size, return_sequences=True)))\n",
        "model2.add(TimeDistributed(Dense(fr_vocab_size, activation='softmax')))\n",
        "\n",
        "model2.compile(loss='sparse_categorical_crossentropy',\n",
        "              optimizer='adam',\n",
        "              metrics=['accuracy'])\n",
        "model2.summary()"
      ]
    },
    {
      "cell_type": "markdown",
      "metadata": {
        "id": "EHDvxt9L0C21"
      },
      "source": [
        "compile and train your new model."
      ]
    },
    {
      "cell_type": "code",
      "execution_count": null,
      "metadata": {
        "colab": {
          "base_uri": "https://localhost:8080/",
          "height": 731
        },
        "id": "iK1QvVmaTWI2",
        "outputId": "0f8b49f9-ea9b-4331-c788-19325eb03ea8"
      },
      "outputs": [
        {
          "data": {
            "image/png": "[encoded data removed]",
            "text/plain": [
              "<Figure size 864x576 with 2 Axes>"
            ]
          },
          "metadata": {},
          "output_type": "display_data"
        },
        {
          "name": "stdout",
          "output_type": "stream",
          "text": [
            "accuracy\n",
            "\ttraining         \t (min:    0.786, max:    0.984, cur:    0.984)\n",
            "\tvalidation       \t (min:    0.917, max:    0.977, cur:    0.977)\n",
            "Loss\n",
            "\ttraining         \t (min:    0.049, max:    0.772, cur:    0.049)\n",
            "\tvalidation       \t (min:    0.073, max:    0.255, cur:    0.073)\n",
            "\b\b\b\b\b\b\b\b\b\b\b\b\b\b\b\b\b\b\b\b\b\b\b\b\b\b\b\b\b\b\b\b\b\b\b\b\b\b\b\b\b\b\b\b\b\b\b\b\b\b\b\b\b\b\b\b\b\b\b\b\b\b\b\b\b\b\b\b\b\b\b\b\b\b\b\b\b\b\b\b\b\b\b\b\b\b\r1724/1724 [==============================] - 177s 103ms/step - loss: 0.0490 - accuracy: 0.9839 - val_loss: 0.0727 - val_accuracy: 0.9772\n"
          ]
        },
        {
          "data": {
            "text/plain": [
              "<keras.callbacks.History at 0x7f46dd8f1a10>"
            ]
          },
          "execution_count": 35,
          "metadata": {},
          "output_type": "execute_result"
        }
      ],
      "source": [
        "#Test Your Zaka\n",
        "model2.fit(x = eng_pad, y = fr_pad, batch_size = 64, epochs=6, validation_split=0.20, callbacks=[PlotLossesKeras(), early_stop])"
      ]
    },
    {
      "cell_type": "code",
      "execution_count": null,
      "metadata": {
        "id": "fnz1TkD5EoCE"
      },
      "outputs": [],
      "source": [
        "def download(model_type, loss, acc):\n",
        "  string = f'saved_model/{model_type}.{loss}.{acc}.h5'\n",
        "  # Saving the model to avoid training it again due to runtime reset:\n",
        "  !mkdir -p saved_model\n",
        "  # Naming convention: translation_'model architecture used'_'loss'_'acc'\n",
        "  model.save(string) \n",
        "  files.download(string) "
      ]
    },
    {
      "cell_type": "code",
      "execution_count": null,
      "metadata": {
        "colab": {
          "base_uri": "https://localhost:8080/",
          "height": 17
        },
        "id": "0NDD-937q1vv",
        "outputId": "4e8897eb-0c5e-405e-86f1-d6d2ba4d1672"
      },
      "outputs": [
        {
          "data": {
            "application/javascript": [
              "\n",
              "    async function download(id, filename, size) {\n",
              "      if (!google.colab.kernel.accessAllowed) {\n",
              "        return;\n",
              "      }\n",
              "      const div = document.createElement('div');\n",
              "      const label = document.createElement('label');\n",
              "      label.textContent = `Downloading \"${filename}\": `;\n",
              "      div.appendChild(label);\n",
              "      const progress = document.createElement('progress');\n",
              "      progress.max = size;\n",
              "      div.appendChild(progress);\n",
              "      document.body.appendChild(div);\n",
              "\n",
              "      const buffers = [];\n",
              "      let downloaded = 0;\n",
              "\n",
              "      const channel = await google.colab.kernel.comms.open(id);\n",
              "      // Send a message to notify the kernel that we're ready.\n",
              "      channel.send({})\n",
              "\n",
              "      for await (const message of channel.messages) {\n",
              "        // Send a message to notify the kernel that we're ready.\n",
              "        channel.send({})\n",
              "        if (message.buffers) {\n",
              "          for (const buffer of message.buffers) {\n",
              "            buffers.push(buffer);\n",
              "            downloaded += buffer.byteLength;\n",
              "            progress.value = downloaded;\n",
              "          }\n",
              "        }\n",
              "      }\n",
              "      const blob = new Blob(buffers, {type: 'application/binary'});\n",
              "      const a = document.createElement('a');\n",
              "      a.href = window.URL.createObjectURL(blob);\n",
              "      a.download = filename;\n",
              "      div.appendChild(a);\n",
              "      a.click();\n",
              "      div.remove();\n",
              "    }\n",
              "  "
            ],
            "text/plain": [
              "<IPython.core.display.Javascript object>"
            ]
          },
          "metadata": {},
          "output_type": "display_data"
        },
        {
          "data": {
            "application/javascript": [
              "download(\"download_9995324c-f137-403b-82e2-4942c5de68fb\", \"2BiLSTM.0.049.0.984.h5\", 56206404)"
            ],
            "text/plain": [
              "<IPython.core.display.Javascript object>"
            ]
          },
          "metadata": {},
          "output_type": "display_data"
        }
      ],
      "source": [
        "download('2BiLSTM','0.049','0.984')"
      ]
    },
    {
      "cell_type": "markdown",
      "metadata": {
        "id": "CkpOI2JI0GBx"
      },
      "source": [
        "Define a new function that relies on your new model to make predictions."
      ]
    },
    {
      "cell_type": "code",
      "execution_count": null,
      "metadata": {
        "id": "ju-OhbaRJ65R"
      },
      "outputs": [],
      "source": [
        "#Test Your Zaka\n",
        "# We just change the model name\n",
        "def translate(model99, eng_sentence = \"she is driving the truck\"):\n",
        "  \n",
        "  # transform each text to a sequence of integers (to be used later in embeddings layer)\n",
        "  # This line \"sentence_token =  tokenizer_eng.texts_to_sequences(eng_sentence)\" didnt work as it apply tokenization to each word or letter in the string  \n",
        "  # (Based on the documentation it takes each text in texts, so it seems that it considered the input string as texts and divides it )\n",
        "  # As a result, converting the string to a list [] takes the full string as 1 sentence \n",
        "  sentence_token =  tokenizer_eng.texts_to_sequences([eng_sentence])\n",
        "  # print(sentence_token) # [[27, 1, 107, 5, 101]]\n",
        "\n",
        "  sentence_pad = pad_sequences(sentence_token, maxlen=eng_max_length, padding='post')\n",
        "\n",
        "  prediction = model99.predict(sentence_pad)\n",
        "  \n",
        "  prediction.shape # (1, 21, 345) = output of the Decoder\n",
        "  translated_words = np.argmax(prediction, axis = 2) # argmax across axis 2 gives us (21, 345) where we have 21 max length sentence and 345 possible word\n",
        "  no_zero = [i for i in translated_words[0] if i != 0] # removing zeros\n",
        "  \n",
        "  translated_sentence = [list(tokenizer_fr.word_index)[word - 1] for word in no_zero]\n",
        "  \n",
        "  translated_sentence = ' '.join(translated_sentence)\n",
        "  return translated_sentence"
      ]
    },
    {
      "cell_type": "code",
      "execution_count": null,
      "metadata": {
        "colab": {
          "base_uri": "https://localhost:8080/",
          "height": 36
        },
        "id": "8CO0pO6-UAeE",
        "outputId": "0c017195-0315-45d9-d6f2-9d61389ed2d3"
      },
      "outputs": [
        {
          "data": {
            "application/vnd.google.colaboratory.intrinsic+json": {
              "type": "string"
            },
            "text/plain": [
              "'elle conduit le camion camion'"
            ]
          },
          "execution_count": 40,
          "metadata": {},
          "output_type": "execute_result"
        }
      ],
      "source": [
        "input = \"she is driving the truck\"\n",
        "#Test Your Zaka\n",
        "translate(input, model2)"
      ]
    },
    {
      "cell_type": "markdown",
      "metadata": {
        "id": "MqMQnCN-F1vd"
      },
      "source": [
        "**Testing with only a Bidirectional layer in the encoder:**\n",
        "\n",
        "# **Model3 = 1x Bi LSTM**"
      ]
    },
    {
      "cell_type": "code",
      "execution_count": null,
      "metadata": {
        "colab": {
          "base_uri": "https://localhost:8080/"
        },
        "id": "sp9NLNjbFxuT",
        "outputId": "23800dd0-1b4f-4f96-c2df-cdfe3127a2c8"
      },
      "outputs": [
        {
          "name": "stdout",
          "output_type": "stream",
          "text": [
            "Model: \"sequential_6\"\n",
            "_________________________________________________________________\n",
            " Layer (type)                Output Shape              Param #   \n",
            "=================================================================\n",
            " embedding_6 (Embedding)     (None, 15, 256)           51456     \n",
            "                                                                 \n",
            " bidirectional_7 (Bidirectio  (None, 2048)             10493952  \n",
            " nal)                                                            \n",
            "                                                                 \n",
            " repeat_vector_5 (RepeatVect  (None, 21, 2048)         0         \n",
            " or)                                                             \n",
            "                                                                 \n",
            " lstm_11 (LSTM)              (None, 21, 1024)          12587008  \n",
            "                                                                 \n",
            " time_distributed_5 (TimeDis  (None, 21, 345)          353625    \n",
            " tributed)                                                       \n",
            "                                                                 \n",
            "=================================================================\n",
            "Total params: 23,486,041\n",
            "Trainable params: 23,486,041\n",
            "Non-trainable params: 0\n",
            "_________________________________________________________________\n"
          ]
        }
      ],
      "source": [
        "#Test Your Zaka\n",
        "embedding_dim = 256\n",
        "\n",
        "model3 = Sequential()\n",
        "model3.add(Embedding(eng_vocab_size, embedding_dim, input_length=eng_max_length))\n",
        "model3.add(Bidirectional(LSTM(hidden_size)))\n",
        "model3.add(RepeatVector(fr_max_length))\n",
        "model3.add(LSTM(hidden_size, return_sequences=True))\n",
        "model3.add(TimeDistributed(Dense(fr_vocab_size, activation='softmax')))\n",
        "\n",
        "model3.compile(loss='sparse_categorical_crossentropy',\n",
        "              optimizer='adam',\n",
        "              metrics=['accuracy'])\n",
        "model3.summary()"
      ]
    },
    {
      "cell_type": "code",
      "execution_count": null,
      "metadata": {
        "colab": {
          "base_uri": "https://localhost:8080/",
          "height": 731
        },
        "id": "Q9Sv999SGFIW",
        "outputId": "4099e654-65f0-42f2-e0d2-5b46db76b0ae"
      },
      "outputs": [
        {
          "data": {
            "image/png": "[encoded data removed]",
            "text/plain": [
              "<Figure size 864x576 with 2 Axes>"
            ]
          },
          "metadata": {},
          "output_type": "display_data"
        },
        {
          "name": "stdout",
          "output_type": "stream",
          "text": [
            "accuracy\n",
            "\ttraining         \t (min:    0.763, max:    0.983, cur:    0.983)\n",
            "\tvalidation       \t (min:    0.909, max:    0.982, cur:    0.982)\n",
            "Loss\n",
            "\ttraining         \t (min:    0.053, max:    0.863, cur:    0.053)\n",
            "\tvalidation       \t (min:    0.060, max:    0.290, cur:    0.060)\n",
            "\b\b\b\b\b\b\b\b\b\b\b\b\b\b\b\b\b\b\b\b\b\b\b\b\b\b\b\b\b\b\b\b\b\b\b\b\b\b\b\b\b\b\b\b\b\b\b\b\b\b\b\b\b\b\b\b\b\b\b\b\b\b\b\b\b\b\b\b\b\b\b\b\b\b\b\b\b\b\b\b\b\b\b\b\b\b\r1724/1724 [==============================] - 115s 67ms/step - loss: 0.0531 - accuracy: 0.9830 - val_loss: 0.0600 - val_accuracy: 0.9820\n"
          ]
        },
        {
          "data": {
            "text/plain": [
              "<keras.callbacks.History at 0x7f1dc00b5ad0>"
            ]
          },
          "execution_count": 52,
          "metadata": {},
          "output_type": "execute_result"
        }
      ],
      "source": [
        "#Test Your Zaka\n",
        "model3.fit(x = eng_pad, y = fr_pad, batch_size = 64, epochs=6, validation_split=0.20, callbacks=[PlotLossesKeras(), early_stop])"
      ]
    },
    {
      "cell_type": "code",
      "execution_count": null,
      "metadata": {
        "colab": {
          "base_uri": "https://localhost:8080/",
          "height": 17
        },
        "id": "SbL0JRFDMSY8",
        "outputId": "95d4a6f6-8a55-4732-956a-85a72a93f1de"
      },
      "outputs": [
        {
          "data": {
            "application/javascript": [
              "\n",
              "    async function download(id, filename, size) {\n",
              "      if (!google.colab.kernel.accessAllowed) {\n",
              "        return;\n",
              "      }\n",
              "      const div = document.createElement('div');\n",
              "      const label = document.createElement('label');\n",
              "      label.textContent = `Downloading \"${filename}\": `;\n",
              "      div.appendChild(label);\n",
              "      const progress = document.createElement('progress');\n",
              "      progress.max = size;\n",
              "      div.appendChild(progress);\n",
              "      document.body.appendChild(div);\n",
              "\n",
              "      const buffers = [];\n",
              "      let downloaded = 0;\n",
              "\n",
              "      const channel = await google.colab.kernel.comms.open(id);\n",
              "      // Send a message to notify the kernel that we're ready.\n",
              "      channel.send({})\n",
              "\n",
              "      for await (const message of channel.messages) {\n",
              "        // Send a message to notify the kernel that we're ready.\n",
              "        channel.send({})\n",
              "        if (message.buffers) {\n",
              "          for (const buffer of message.buffers) {\n",
              "            buffers.push(buffer);\n",
              "            downloaded += buffer.byteLength;\n",
              "            progress.value = downloaded;\n",
              "          }\n",
              "        }\n",
              "      }\n",
              "      const blob = new Blob(buffers, {type: 'application/binary'});\n",
              "      const a = document.createElement('a');\n",
              "      a.href = window.URL.createObjectURL(blob);\n",
              "      a.download = filename;\n",
              "      div.appendChild(a);\n",
              "      a.click();\n",
              "      div.remove();\n",
              "    }\n",
              "  "
            ],
            "text/plain": [
              "<IPython.core.display.Javascript object>"
            ]
          },
          "metadata": {},
          "output_type": "display_data"
        },
        {
          "data": {
            "application/javascript": [
              "download(\"download_946c2ca9-d417-46b3-b98e-268f1ce00e4e\", \"1BiLSTM.0.053.0.983.h5\", 168588952)"
            ],
            "text/plain": [
              "<IPython.core.display.Javascript object>"
            ]
          },
          "metadata": {},
          "output_type": "display_data"
        }
      ],
      "source": [
        "download('1BiLSTM','0.053','0.983')"
      ]
    },
    {
      "cell_type": "code",
      "execution_count": null,
      "metadata": {
        "colab": {
          "base_uri": "https://localhost:8080/",
          "height": 36
        },
        "id": "sDjQLaeJJXrH",
        "outputId": "ef14f271-0685-4936-ecef-4245beb43947"
      },
      "outputs": [
        {
          "data": {
            "application/vnd.google.colaboratory.intrinsic+json": {
              "type": "string"
            },
            "text/plain": [
              "'elle conduit le nouveau camion'"
            ]
          },
          "execution_count": 55,
          "metadata": {},
          "output_type": "execute_result"
        }
      ],
      "source": [
        "translate(input, model3)"
      ]
    },
    {
      "cell_type": "markdown",
      "metadata": {
        "id": "IU8ZMWhUrIU9"
      },
      "source": [
        "# **Model4 = 1x Bi LSTM + data splitting**"
      ]
    },
    {
      "cell_type": "code",
      "execution_count": null,
      "metadata": {
        "colab": {
          "base_uri": "https://localhost:8080/"
        },
        "id": "_cA93K-TUbcR",
        "outputId": "4ac08417-03f5-4c33-bf90-f7ad99cb99a8"
      },
      "outputs": [
        {
          "output_type": "stream",
          "name": "stdout",
          "text": [
            "(96502,) (96502,)\n",
            "(41358,) (41358,)\n"
          ]
        }
      ],
      "source": [
        "from sklearn.model_selection import train_test_split\n",
        "X = df['english']\n",
        "y = df['french']\n",
        "x_train, x_test, y_train, y_test = train_test_split(X, y, test_size=0.3,random_state=42)\n",
        "print(x_train.shape, y_train.shape)\n",
        "print(x_test.shape, y_test.shape)"
      ]
    },
    {
      "cell_type": "code",
      "execution_count": null,
      "metadata": {
        "id": "eiAlOcb6_WHx"
      },
      "outputs": [],
      "source": [
        "from tensorflow.keras.preprocessing.text import Tokenizer\n",
        "from tensorflow.keras.preprocessing.sequence import pad_sequences\n",
        "\n",
        "# define your tokenizer (with num_words=10000)\n",
        "tokenizer_eng = Tokenizer(num_words=1000)\n",
        "tokenizer_fr = Tokenizer(num_words=1000)\n",
        "\n",
        "# assign an index (number) to each word using fit_on_texts function  \n",
        "tokenizer_eng.fit_on_texts(x_train)\n",
        "tokenizer_fr.fit_on_texts(y_train)\n",
        "\n",
        "# will be used later to pad sequences\n",
        "eng_max_length = max(df.eng_length)\n",
        "fr_max_length = max(df.fr_length)\n",
        "\n",
        "# define vocabulary size\n",
        "vocab_size_en = len(tokenizer_eng.word_index) + 1\n",
        "vocab_size_fr = len(tokenizer_fr.word_index) + 1\n",
        "\n",
        "# transform each text to a sequence of integers (to be used later in embeddings layer)\n",
        "X_train_tokens =  tokenizer_eng.texts_to_sequences(x_train)\n",
        "X_test_tokens = tokenizer_eng.texts_to_sequences(x_test)\n",
        "\n",
        "y_train_tokens =  tokenizer_fr.texts_to_sequences(y_train)\n",
        "y_test_tokens = tokenizer_fr.texts_to_sequences(y_test)\n",
        "\n",
        "# apply post-padding to the sequences\n",
        "X_train_pad = pad_sequences(X_train_tokens, maxlen=eng_max_length, padding='post')\n",
        "X_test_pad = pad_sequences(X_test_tokens, maxlen=eng_max_length, padding='post')\n",
        "\n",
        "y_train_pad = pad_sequences(y_train_tokens, maxlen=fr_max_length, padding='post')\n",
        "y_test_pad = pad_sequences(y_test_tokens, maxlen=fr_max_length, padding='post')"
      ]
    },
    {
      "cell_type": "code",
      "execution_count": null,
      "metadata": {
        "colab": {
          "base_uri": "https://localhost:8080/"
        },
        "id": "ucRXkA-aNzE0",
        "outputId": "d6306641-c596-4f8e-c4ea-6bbd4821d17e"
      },
      "outputs": [
        {
          "name": "stdout",
          "output_type": "stream",
          "text": [
            "(110288, 21)\n",
            "(110288, 21)\n",
            "(27572, 21)\n",
            "(27572, 21)\n"
          ]
        }
      ],
      "source": [
        "print(X_train_pad.shape)\n",
        "print(y_train_pad.shape)\n",
        "print(X_test_pad.shape)\n",
        "print(y_test_pad.shape)"
      ]
    },
    {
      "cell_type": "code",
      "execution_count": null,
      "metadata": {
        "colab": {
          "base_uri": "https://localhost:8080/"
        },
        "id": "6pFLuHdv_lZR",
        "outputId": "8ee8f461-5742-41f7-86f1-3d778234b426"
      },
      "outputs": [
        {
          "name": "stdout",
          "output_type": "stream",
          "text": [
            "Model: \"sequential_21\"\n",
            "_________________________________________________________________\n",
            " Layer (type)                Output Shape              Param #   \n",
            "=================================================================\n",
            " embedding_21 (Embedding)    (None, 15, 300)           60300     \n",
            "                                                                 \n",
            " lstm_36 (LSTM)              (None, 75)                112800    \n",
            "                                                                 \n",
            " repeat_vector_14 (RepeatVec  (None, 21, 75)           0         \n",
            " tor)                                                            \n",
            "                                                                 \n",
            " lstm_37 (LSTM)              (None, 21, 75)            45300     \n",
            "                                                                 \n",
            " dense_15 (Dense)            (None, 21, 32)            2432      \n",
            "                                                                 \n",
            " time_distributed_14 (TimeDi  (None, 21, 343)          11319     \n",
            " stributed)                                                      \n",
            "                                                                 \n",
            "=================================================================\n",
            "Total params: 232,151\n",
            "Trainable params: 232,151\n",
            "Non-trainable params: 0\n",
            "_________________________________________________________________\n"
          ]
        }
      ],
      "source": [
        "model4 = Sequential()\n",
        "\n",
        "model4.add(Embedding(vocab_size_en, embedding_dim, input_length=eng_max_length))\n",
        "\n",
        "model4.add(LSTM(hidden_size))\n",
        "model4.add(RepeatVector(fr_max_length))\n",
        "model4.add(LSTM(hidden_size, return_sequences=True))\n",
        "model4.add(Dense(32, activation='relu'))\n",
        "model4.add(TimeDistributed(Dense(vocab_size_fr, activation='softmax')))\n",
        "model4.compile(loss='sparse_categorical_crossentropy',\n",
        "              optimizer='adam',\n",
        "              metrics=['accuracy'])\n",
        "model4.summary()"
      ]
    },
    {
      "cell_type": "code",
      "execution_count": null,
      "metadata": {
        "colab": {
          "base_uri": "https://localhost:8080/",
          "height": 724
        },
        "id": "3vT7zvIg_8h7",
        "outputId": "8a58646a-637f-4301-ce23-a0dcf4bac3cf"
      },
      "outputs": [
        {
          "data": {
            "image/png": "[encoded data removed]",
            "text/plain": [
              "<Figure size 864x576 with 2 Axes>"
            ]
          },
          "metadata": {},
          "output_type": "display_data"
        },
        {
          "name": "stdout",
          "output_type": "stream",
          "text": [
            "accuracy\n",
            "\ttraining         \t (min:    0.600, max:    0.970, cur:    0.970)\n",
            "\tvalidation       \t (min:    0.695, max:    0.969, cur:    0.969)\n",
            "Loss\n",
            "\ttraining         \t (min:    0.115, max:    1.635, cur:    0.115)\n",
            "\tvalidation       \t (min:    0.123, max:    1.066, cur:    0.123)\n",
            "\b\b\b\b\b\b\b\b\b\b\b\b\b\b\b\b\b\b\b\b\b\b\b\b\b\b\b\b\b\b\b\b\b\b\b\b\b\b\b\b\b\b\b\b\b\b\b\b\b\b\b\b\b\b\b\b\b\b\b\b\b\b\b\b\b\b\b\b\b\b\b\b\b\b\b\b\b\b\b\b\b\b\b\b\b\b\r3447/3447 [==============================] - 34s 10ms/step - loss: 0.1153 - accuracy: 0.9696 - val_loss: 0.1231 - val_accuracy: 0.9688\n"
          ]
        },
        {
          "data": {
            "text/plain": [
              "<keras.callbacks.History at 0x7fa7eb71e190>"
            ]
          },
          "execution_count": 119,
          "metadata": {},
          "output_type": "execute_result"
        }
      ],
      "source": [
        "model4.fit(X_train_pad, y_train_pad, batch_size=32, epochs=15, validation_data=(X_test_pad, y_test_pad), callbacks=[PlotLossesKeras()])"
      ]
    },
    {
      "cell_type": "code",
      "execution_count": null,
      "metadata": {
        "colab": {
          "base_uri": "https://localhost:8080/",
          "height": 35
        },
        "id": "hSOyH9RLvUpp",
        "outputId": "d39c8ac1-acb0-46b2-ef98-6c5b5515b751"
      },
      "outputs": [
        {
          "data": {
            "application/vnd.google.colaboratory.intrinsic+json": {
              "type": "string"
            },
            "text/plain": [
              "'elle conduit le camion camion blanc'"
            ]
          },
          "execution_count": 129,
          "metadata": {},
          "output_type": "execute_result"
        }
      ],
      "source": [
        "input = \"she is driving the truck\"\n",
        "#Test Your Zaka\n",
        "prediction = translate(input, model4)\n",
        "prediction"
      ]
    },
    {
      "cell_type": "markdown",
      "metadata": {
        "id": "gsFFIBoGvYkL"
      },
      "source": [
        "# **Model5 = Stacking BiLSTMs**"
      ]
    },
    {
      "cell_type": "code",
      "execution_count": null,
      "metadata": {
        "colab": {
          "base_uri": "https://localhost:8080/"
        },
        "id": "FvU8GFDTrZA5",
        "outputId": "1f45a4a3-d61e-48cb-f987-3126efef6279"
      },
      "outputs": [
        {
          "name": "stdout",
          "output_type": "stream",
          "text": [
            "Model: \"sequential_1\"\n",
            "_________________________________________________________________\n",
            " Layer (type)                Output Shape              Param #   \n",
            "=================================================================\n",
            " embedding_1 (Embedding)     (None, 15, 128)           25728     \n",
            "                                                                 \n",
            " bidirectional_4 (Bidirectio  (None, 15, 2048)         9445376   \n",
            " nal)                                                            \n",
            "                                                                 \n",
            " bidirectional_5 (Bidirectio  (None, 2048)             25174016  \n",
            " nal)                                                            \n",
            "                                                                 \n",
            " repeat_vector_1 (RepeatVect  (None, 21, 2048)         0         \n",
            " or)                                                             \n",
            "                                                                 \n",
            " bidirectional_6 (Bidirectio  (None, 21, 2048)         25174016  \n",
            " nal)                                                            \n",
            "                                                                 \n",
            " bidirectional_7 (Bidirectio  (None, 21, 2048)         25174016  \n",
            " nal)                                                            \n",
            "                                                                 \n",
            " time_distributed_1 (TimeDis  (None, 21, 345)          706905    \n",
            " tributed)                                                       \n",
            "                                                                 \n",
            "=================================================================\n",
            "Total params: 85,700,057\n",
            "Trainable params: 85,700,057\n",
            "Non-trainable params: 0\n",
            "_________________________________________________________________\n"
          ]
        }
      ],
      "source": [
        "#Test Your Zaka\n",
        "embedding_dim = 128\n",
        "\n",
        "model5 = Sequential()\n",
        "model5.add(Embedding(eng_vocab_size, embedding_dim, input_length=eng_max_length))\n",
        "model5.add(Bidirectional(LSTM(hidden_size, return_sequences=True)))\n",
        "model5.add(Bidirectional(LSTM(hidden_size)))\n",
        "model5.add(RepeatVector(fr_max_length))\n",
        "model5.add(Bidirectional(LSTM(hidden_size, return_sequences=True)))\n",
        "model5.add(Bidirectional(LSTM(hidden_size, return_sequences=True)))\n",
        "model5.add(TimeDistributed(Dense(fr_vocab_size, activation='softmax')))\n",
        "\n",
        "model5.compile(loss='sparse_categorical_crossentropy',\n",
        "              optimizer='adam',\n",
        "              metrics=['accuracy'])\n",
        "model5.summary()"
      ]
    },
    {
      "cell_type": "code",
      "execution_count": null,
      "metadata": {
        "colab": {
          "background_save": true,
          "base_uri": "https://localhost:8080/",
          "height": 724
        },
        "id": "pxQkz-4brZA7",
        "outputId": "53cbf115-0709-49d7-fa3c-c4ffe6580983"
      },
      "outputs": [
        {
          "name": "stdout",
          "output_type": "stream",
          "text": [
            "Epoch 1/6\n",
            " 331/1724 [====>.........................] - ETA: 8:23:40 - loss: 1.8862 - accuracy: 0.5541"
          ]
        }
      ],
      "source": [
        "#Test Your Zaka\n",
        "model5.fit(x = eng_pad, y = fr_pad, batch_size = 64, epochs=6, validation_split=0.20, callbacks=[PlotLossesKeras(), early_stop])"
      ]
    },
    {
      "cell_type": "code",
      "execution_count": null,
      "metadata": {
        "id": "fJ0kufYArZA8"
      },
      "outputs": [],
      "source": [
        "download('1BiLSTM','0.053','0.983')"
      ]
    },
    {
      "cell_type": "code",
      "execution_count": null,
      "metadata": {
        "colab": {
          "base_uri": "https://localhost:8080/",
          "height": 36
        },
        "id": "zxPWWIHorZA8",
        "outputId": "59b9a051-d03f-4f6e-a226-03c3270c3e55"
      },
      "outputs": [
        {
          "data": {
            "application/vnd.google.colaboratory.intrinsic+json": {
              "type": "string"
            },
            "text/plain": [
              "'elle conduit le petit camion noir'"
            ]
          },
          "execution_count": 26,
          "metadata": {},
          "output_type": "execute_result"
        }
      ],
      "source": [
        "translate(model5)"
      ]
    },
    {
      "cell_type": "markdown",
      "metadata": {
        "id": "CmLmG5S68Rb-"
      },
      "source": [
        "# Models Comparison:\n",
        "- Model1 = normal LSTM                     |  **elle conduit le le lac**\n",
        "- Model2 = 2x Bi LSTM               | **elle conduit le camion camion**\n",
        "- Model3 = 1x Bi LSTM                  |  **elle conduit le nouveau camion**\n",
        "- Model4 = 1x Bi LSTM + data splitting                          | **elle conduit le camion camion blanc**\n",
        "- Model5 = Stacking BiLSTMs | **elle conduit le petit camion noir**\n",
        "\n",
        "Note: It seems like the models predict the main words but it prints with it an adjective such as nouveau ot blanc.  "
      ]
    },
    {
      "cell_type": "markdown",
      "metadata": {
        "id": "YGeXrjqbZen7"
      },
      "source": [
        "**What is another adjustment in terms of architecture that you might be able to do to improve your model?**"
      ]
    },
    {
      "cell_type": "markdown",
      "metadata": {
        "id": "bekjOkjbZlBf"
      },
      "source": [
        "- Attention (or using Transformers)\n",
        "- Using GRU may have a better performance than LSTM "
      ]
    },
    {
      "cell_type": "markdown",
      "metadata": {
        "id": "pnIN2lD2tn05"
      },
      "source": [
        "\n",
        "**What are some additional ways that we can do to improve the performance of our model?**"
      ]
    },
    {
      "cell_type": "markdown",
      "metadata": {
        "id": "s7_MCCbQt3uq"
      },
      "source": [
        "- Splitting data for training and testing \n",
        "- More data cleaning. Maybe removing stopwatch, keep the ' in the french language and other things that may help improving the input data\n",
        "- Playing with the Deep Layers number\n",
        "- More epoch as we can see that there is a rising trend for the model"
      ]
    },
    {
      "cell_type": "markdown",
      "source": [
        "# **Testing Attention**"
      ],
      "metadata": {
        "id": "uaGtA3dKkHxH"
      }
    },
    {
      "cell_type": "code",
      "source": [
        "from tensorflow.keras.layers import Dense, LSTM, Bidirectional, Embedding, Concatenate\n",
        "from tensorflow.keras import Input, Model\n",
        "\n",
        "# Encoder input\n",
        "encoder_inputs = Input(shape=(eng_max_length,)) \n",
        "\n",
        "# Embedding layer- i am using 1024 output-dim for embedding you can try diff values 100,256,512,1000\n",
        "enc_emb = Embedding(eng_vocab_size, 1024)(encoder_inputs)\n",
        "\n",
        "# Bidirectional lstm layer\n",
        "enc_lstm1 = Bidirectional(LSTM(256,return_sequences=True,return_state=True))\n",
        "encoder_outputs1, forw_state_h, forw_state_c, back_state_h, back_state_c = enc_lstm1(enc_emb)\n",
        "\n",
        "# Concatenate both h and c \n",
        "final_enc_h = Concatenate()([forw_state_h,back_state_h])\n",
        "final_enc_c = Concatenate()([forw_state_c,back_state_c])\n",
        "\n",
        "# get Context vector\n",
        "encoder_states =[final_enc_h, final_enc_c]"
      ],
      "metadata": {
        "id": "dd9xIUAkkHAQ"
      },
      "execution_count": null,
      "outputs": []
    },
    {
      "cell_type": "code",
      "source": [
        "from tensorflow.keras.layers import Attention\n",
        "#  decoder input\n",
        "decoder_inputs = Input(shape=(None,)) \n",
        "\n",
        "# decoder embedding with same number as encoder embedding\n",
        "dec_emb_layer = Embedding(fr_vocab_size, 1024) \n",
        "dec_emb = dec_emb_layer(decoder_inputs)   # apply this way because we need embedding layer for prediction \n",
        "\n",
        "# In encoder we used Bidirectional so it's having two LSTM's so we have to take double units(256*2=512) for single decoder lstm\n",
        "# LSTM using encoder's final states as initial state\n",
        "decoder_lstm = LSTM(512, return_sequences=True, return_state=True) \n",
        "decoder_outputs, _, _ = decoder_lstm(dec_emb, initial_state=encoder_states)\n",
        "\n",
        "# Using Attention Layer\n",
        "attention_layer = AttentionLayer()\n",
        "attention_result = attention_layer([encoder_outputs1, decoder_outputs])\n",
        "\n",
        "# Concat attention output and decoder LSTM output \n",
        "decoder_concat_input = Concatenate(axis=-1, name='concat_layer')([decoder_outputs, attention_result])\n",
        "\n",
        "# Dense layer with softmax\n",
        "decoder_dense = Dense(fr_vocab_size, activation='softmax')\n",
        "decoder_outputs = decoder_dense(decoder_concat_input)\n",
        "dropout = Dropout(rate=0.20)\n",
        "decoder_outputs = dropout(decoder_outputs)\n",
        "\n",
        "# Define the model\n",
        "model = Model([encoder_inputs, decoder_inputs], decoder_outputs) "
      ],
      "metadata": {
        "id": "ZneM0bOBkrz1"
      },
      "execution_count": null,
      "outputs": []
    },
    {
      "cell_type": "code",
      "source": [
        "# ***IMP note :- if loss categorical crossentropy used then shapes incompatible error will occcur beause \n",
        "# we have to use sparse_categorical_crossentropy when we have all different labels categorical is for mutliclass labels***\n",
        "\n",
        "# compile model\n",
        "model.compile(optimizer='adam', loss='sparse_categorical_crossentropy', metrics=['accuracy'])\n"
      ],
      "metadata": {
        "id": "K68r7FzxmnDE"
      },
      "execution_count": null,
      "outputs": []
    },
    {
      "cell_type": "code",
      "source": [
        "# Define callbacks\n",
        "from tensorflow.keras.callbacks import ModelCheckpoint, EarlyStopping\n",
        "checkpoint = ModelCheckpoint(\"give Your path to save check points\", monitor='val_accuracy')\n",
        "early_stopping = EarlyStopping(monitor='val_accuracy', patience=5)\n",
        "callbacks_list = [checkpoint, early_stopping]\n",
        "\n",
        "# Training set\n",
        "encoder_input_data = X_train_pad\n",
        "# To make same as target data skip last number which is just padding\n",
        "decoder_input_data = y_train_pad[:,:-1]\n",
        "# Decoder target data has to be one step ahead so we are taking from 1 as told in keras docs\n",
        "decoder_target_data =  y_train_pad[:,1:]\n",
        "\n",
        "# devlopment set\n",
        "encoder_input_test = X_test_pad\n",
        "decoder_input_test = y_test_pad[:,:-1]\n",
        "decoder_target_test=  y_test_pad[:,1:]\n",
        "\n",
        "EPOCHS= 4 #@param {type:'slider',min:0,max:10, step:1}\n",
        "history = model.fit([encoder_input_data, decoder_input_data],decoder_target_data, \n",
        "                    epochs=EPOCHS, \n",
        "                    batch_size=128,\n",
        "                    validation_data = ([encoder_input_test, decoder_input_test],decoder_target_test),\n",
        "                    callbacks= callbacks_list)"
      ],
      "metadata": {
        "colab": {
          "base_uri": "https://localhost:8080/"
        },
        "id": "1-NkHpBxmbKh",
        "outputId": "654b99f8-4e15-42f6-f0d2-717827b89be3"
      },
      "execution_count": null,
      "outputs": [
        {
          "output_type": "stream",
          "name": "stdout",
          "text": [
            "Epoch 1/4\n",
            "753/754 [============================>.] - ETA: 0s - loss: 2.1674 - accuracy: 0.6833"
          ]
        },
        {
          "output_type": "stream",
          "name": "stderr",
          "text": [
            "WARNING:absl:Found untraced functions such as lstm_cell_30_layer_call_fn, lstm_cell_30_layer_call_and_return_conditional_losses, lstm_cell_27_layer_call_fn, lstm_cell_27_layer_call_and_return_conditional_losses, lstm_cell_28_layer_call_fn while saving (showing 5 of 6). These functions will not be directly callable after loading.\n",
            "/usr/local/lib/python3.7/dist-packages/keras/engine/functional.py:1410: CustomMaskWarning: Custom mask layers require a config and must override get_config. When loading, the custom mask layer must be passed to the custom_objects argument.\n",
            "  layer_config = serialize_layer_fn(layer)\n",
            "/usr/local/lib/python3.7/dist-packages/keras/saving/saved_model/layer_serialization.py:112: CustomMaskWarning: Custom mask layers require a config and must override get_config. When loading, the custom mask layer must be passed to the custom_objects argument.\n",
            "  return generic_utils.serialize_keras_object(obj)\n",
            "WARNING:absl:<keras.layers.recurrent.LSTMCell object at 0x7f31e2ee4710> has the same name 'LSTMCell' as a built-in Keras object. Consider renaming <class 'keras.layers.recurrent.LSTMCell'> to avoid naming conflicts when loading with `tf.keras.models.load_model`. If renaming is not possible, pass the object in the `custom_objects` parameter of the load function.\n",
            "WARNING:absl:<keras.layers.recurrent.LSTMCell object at 0x7f31e2d01e50> has the same name 'LSTMCell' as a built-in Keras object. Consider renaming <class 'keras.layers.recurrent.LSTMCell'> to avoid naming conflicts when loading with `tf.keras.models.load_model`. If renaming is not possible, pass the object in the `custom_objects` parameter of the load function.\n",
            "WARNING:absl:<keras.layers.recurrent.LSTMCell object at 0x7f31e2d18ad0> has the same name 'LSTMCell' as a built-in Keras object. Consider renaming <class 'keras.layers.recurrent.LSTMCell'> to avoid naming conflicts when loading with `tf.keras.models.load_model`. If renaming is not possible, pass the object in the `custom_objects` parameter of the load function.\n"
          ]
        },
        {
          "output_type": "stream",
          "name": "stdout",
          "text": [
            "\b\b\b\b\b\b\b\b\b\b\b\b\b\b\b\b\b\b\b\b\b\b\b\b\b\b\b\b\b\b\b\b\b\b\b\b\b\b\b\b\b\b\b\b\b\b\b\b\b\b\b\b\b\b\b\b\b\b\b\b\b\b\b\b\b\b\b\b\b\b\b\b\b\b\b\b\b\b\b\b\b\b\b\b\r754/754 [==============================] - 56s 66ms/step - loss: 2.1664 - accuracy: 0.6834 - val_loss: 0.1123 - val_accuracy: 0.9735\n",
            "Epoch 2/4\n",
            "754/754 [==============================] - ETA: 0s - loss: 1.3081 - accuracy: 0.7894"
          ]
        },
        {
          "output_type": "stream",
          "name": "stderr",
          "text": [
            "WARNING:absl:Found untraced functions such as lstm_cell_30_layer_call_fn, lstm_cell_30_layer_call_and_return_conditional_losses, lstm_cell_27_layer_call_fn, lstm_cell_27_layer_call_and_return_conditional_losses, lstm_cell_28_layer_call_fn while saving (showing 5 of 6). These functions will not be directly callable after loading.\n",
            "/usr/local/lib/python3.7/dist-packages/keras/engine/functional.py:1410: CustomMaskWarning: Custom mask layers require a config and must override get_config. When loading, the custom mask layer must be passed to the custom_objects argument.\n",
            "  layer_config = serialize_layer_fn(layer)\n",
            "/usr/local/lib/python3.7/dist-packages/keras/saving/saved_model/layer_serialization.py:112: CustomMaskWarning: Custom mask layers require a config and must override get_config. When loading, the custom mask layer must be passed to the custom_objects argument.\n",
            "  return generic_utils.serialize_keras_object(obj)\n",
            "WARNING:absl:<keras.layers.recurrent.LSTMCell object at 0x7f31e2ee4710> has the same name 'LSTMCell' as a built-in Keras object. Consider renaming <class 'keras.layers.recurrent.LSTMCell'> to avoid naming conflicts when loading with `tf.keras.models.load_model`. If renaming is not possible, pass the object in the `custom_objects` parameter of the load function.\n",
            "WARNING:absl:<keras.layers.recurrent.LSTMCell object at 0x7f31e2d01e50> has the same name 'LSTMCell' as a built-in Keras object. Consider renaming <class 'keras.layers.recurrent.LSTMCell'> to avoid naming conflicts when loading with `tf.keras.models.load_model`. If renaming is not possible, pass the object in the `custom_objects` parameter of the load function.\n",
            "WARNING:absl:<keras.layers.recurrent.LSTMCell object at 0x7f31e2d18ad0> has the same name 'LSTMCell' as a built-in Keras object. Consider renaming <class 'keras.layers.recurrent.LSTMCell'> to avoid naming conflicts when loading with `tf.keras.models.load_model`. If renaming is not possible, pass the object in the `custom_objects` parameter of the load function.\n"
          ]
        },
        {
          "output_type": "stream",
          "name": "stdout",
          "text": [
            "\b\b\b\b\b\b\b\b\b\b\b\b\b\b\b\b\b\b\b\b\b\b\b\b\b\b\b\b\b\b\b\b\b\b\b\b\b\b\b\b\b\b\b\b\b\b\b\b\b\b\b\b\b\b\b\b\b\b\b\b\b\b\b\b\b\b\b\b\b\b\b\b\b\b\b\b\b\b\b\b\b\b\b\b\r754/754 [==============================] - 48s 64ms/step - loss: 1.3081 - accuracy: 0.7894 - val_loss: 0.0553 - val_accuracy: 0.9893\n",
            "Epoch 3/4\n",
            "753/754 [============================>.] - ETA: 0s - loss: 1.2485 - accuracy: 0.7935"
          ]
        },
        {
          "output_type": "stream",
          "name": "stderr",
          "text": [
            "WARNING:absl:Found untraced functions such as lstm_cell_30_layer_call_fn, lstm_cell_30_layer_call_and_return_conditional_losses, lstm_cell_27_layer_call_fn, lstm_cell_27_layer_call_and_return_conditional_losses, lstm_cell_28_layer_call_fn while saving (showing 5 of 6). These functions will not be directly callable after loading.\n",
            "/usr/local/lib/python3.7/dist-packages/keras/engine/functional.py:1410: CustomMaskWarning: Custom mask layers require a config and must override get_config. When loading, the custom mask layer must be passed to the custom_objects argument.\n",
            "  layer_config = serialize_layer_fn(layer)\n",
            "/usr/local/lib/python3.7/dist-packages/keras/saving/saved_model/layer_serialization.py:112: CustomMaskWarning: Custom mask layers require a config and must override get_config. When loading, the custom mask layer must be passed to the custom_objects argument.\n",
            "  return generic_utils.serialize_keras_object(obj)\n",
            "WARNING:absl:<keras.layers.recurrent.LSTMCell object at 0x7f31e2ee4710> has the same name 'LSTMCell' as a built-in Keras object. Consider renaming <class 'keras.layers.recurrent.LSTMCell'> to avoid naming conflicts when loading with `tf.keras.models.load_model`. If renaming is not possible, pass the object in the `custom_objects` parameter of the load function.\n",
            "WARNING:absl:<keras.layers.recurrent.LSTMCell object at 0x7f31e2d01e50> has the same name 'LSTMCell' as a built-in Keras object. Consider renaming <class 'keras.layers.recurrent.LSTMCell'> to avoid naming conflicts when loading with `tf.keras.models.load_model`. If renaming is not possible, pass the object in the `custom_objects` parameter of the load function.\n",
            "WARNING:absl:<keras.layers.recurrent.LSTMCell object at 0x7f31e2d18ad0> has the same name 'LSTMCell' as a built-in Keras object. Consider renaming <class 'keras.layers.recurrent.LSTMCell'> to avoid naming conflicts when loading with `tf.keras.models.load_model`. If renaming is not possible, pass the object in the `custom_objects` parameter of the load function.\n"
          ]
        },
        {
          "output_type": "stream",
          "name": "stdout",
          "text": [
            "\b\b\b\b\b\b\b\b\b\b\b\b\b\b\b\b\b\b\b\b\b\b\b\b\b\b\b\b\b\b\b\b\b\b\b\b\b\b\b\b\b\b\b\b\b\b\b\b\b\b\b\b\b\b\b\b\b\b\b\b\b\b\b\b\b\b\b\b\b\b\b\b\b\b\b\b\b\b\b\b\b\b\b\b\r754/754 [==============================] - 48s 63ms/step - loss: 1.2484 - accuracy: 0.7935 - val_loss: 0.0425 - val_accuracy: 0.9927\n",
            "Epoch 4/4\n",
            "754/754 [==============================] - ETA: 0s - loss: 1.2268 - accuracy: 0.7954"
          ]
        },
        {
          "output_type": "stream",
          "name": "stderr",
          "text": [
            "WARNING:absl:Found untraced functions such as lstm_cell_30_layer_call_fn, lstm_cell_30_layer_call_and_return_conditional_losses, lstm_cell_27_layer_call_fn, lstm_cell_27_layer_call_and_return_conditional_losses, lstm_cell_28_layer_call_fn while saving (showing 5 of 6). These functions will not be directly callable after loading.\n",
            "/usr/local/lib/python3.7/dist-packages/keras/engine/functional.py:1410: CustomMaskWarning: Custom mask layers require a config and must override get_config. When loading, the custom mask layer must be passed to the custom_objects argument.\n",
            "  layer_config = serialize_layer_fn(layer)\n",
            "/usr/local/lib/python3.7/dist-packages/keras/saving/saved_model/layer_serialization.py:112: CustomMaskWarning: Custom mask layers require a config and must override get_config. When loading, the custom mask layer must be passed to the custom_objects argument.\n",
            "  return generic_utils.serialize_keras_object(obj)\n",
            "WARNING:absl:<keras.layers.recurrent.LSTMCell object at 0x7f31e2ee4710> has the same name 'LSTMCell' as a built-in Keras object. Consider renaming <class 'keras.layers.recurrent.LSTMCell'> to avoid naming conflicts when loading with `tf.keras.models.load_model`. If renaming is not possible, pass the object in the `custom_objects` parameter of the load function.\n",
            "WARNING:absl:<keras.layers.recurrent.LSTMCell object at 0x7f31e2d01e50> has the same name 'LSTMCell' as a built-in Keras object. Consider renaming <class 'keras.layers.recurrent.LSTMCell'> to avoid naming conflicts when loading with `tf.keras.models.load_model`. If renaming is not possible, pass the object in the `custom_objects` parameter of the load function.\n",
            "WARNING:absl:<keras.layers.recurrent.LSTMCell object at 0x7f31e2d18ad0> has the same name 'LSTMCell' as a built-in Keras object. Consider renaming <class 'keras.layers.recurrent.LSTMCell'> to avoid naming conflicts when loading with `tf.keras.models.load_model`. If renaming is not possible, pass the object in the `custom_objects` parameter of the load function.\n"
          ]
        },
        {
          "output_type": "stream",
          "name": "stdout",
          "text": [
            "\b\b\b\b\b\b\b\b\b\b\b\b\b\b\b\b\b\b\b\b\b\b\b\b\b\b\b\b\b\b\b\b\b\b\b\b\b\b\b\b\b\b\b\b\b\b\b\b\b\b\b\b\b\b\b\b\b\b\b\b\b\b\b\b\b\b\b\b\b\b\b\b\b\b\b\b\b\b\b\b\b\b\b\b\r754/754 [==============================] - 47s 63ms/step - loss: 1.2268 - accuracy: 0.7954 - val_loss: 0.0386 - val_accuracy: 0.9938\n"
          ]
        }
      ]
    },
    {
      "cell_type": "code",
      "source": [
        "# INFERENCE MODEL\n",
        "# encoder Inference model\n",
        "encoder_model = Model(encoder_inputs, outputs = [encoder_outputs1, final_enc_h, final_enc_c])\n",
        "\n",
        "# Decoder Inference\n",
        "decoder_state_h = Input(shape=(512,)) # This numbers has to be same as units of lstm's on which model is trained\n",
        "decoder_state_c = Input(shape=(512,))\n",
        "\n",
        "# we need hidden state for attention layer\n",
        "# 36 is maximum length if english sentence It has to same as input taken by attention layer can see in model plot\n",
        "decoder_hidden_state_input = Input(shape=(15,512)) \n",
        "# get decoder states\n",
        "dec_states = [decoder_state_h, decoder_state_c]\n",
        "\n",
        "# embedding layer \n",
        "dec_emb2 = dec_emb_layer(decoder_inputs)\n",
        "decoder_outputs2, state_h2, state_c2 = decoder_lstm(dec_emb2, initial_state=dec_states)\n",
        "\n",
        "# Attention inference\n",
        "attention_result_inf = attention_layer([decoder_hidden_state_input, decoder_outputs2])\n",
        "decoder_concat_input_inf = Concatenate(axis=-1, name='concat_layer')([decoder_outputs2, attention_result_inf])\n",
        "\n",
        "dec_states2= [state_h2, state_c2]\n",
        "decoder_outputs2 = decoder_dense(decoder_concat_input_inf)\n",
        "\n",
        "# get decoder model\n",
        "decoder_model= Model(\n",
        "                    [decoder_inputs] + [decoder_hidden_state_input, decoder_state_h, decoder_state_c],\n",
        "                     [decoder_outputs2]+ dec_states2)"
      ],
      "metadata": {
        "id": "kMfpiKf4njJK"
      },
      "execution_count": null,
      "outputs": []
    },
    {
      "cell_type": "code",
      "source": [
        "def get_predicted_sentence(input_seq):\n",
        "    # Encode the input as state vectors.\n",
        "    enc_output, enc_h, enc_c = encoder_model.predict(input_seq)\n",
        "  \n",
        "    # Generate empty target sequence of length 1.\n",
        "    target_seq = np.zeros((1,1))\n",
        "    \n",
        "    # Populate the first character of target sequence with the start character.\n",
        "    # target_seq[0, 0] = mar_word_index['sos']\n",
        "    \n",
        "    # Sampling loop for a batch of sequences\n",
        "    # (to simplify, here we assume a batch of size 1).\n",
        "    stop_condition = False\n",
        "    decoded_sentence = ''\n",
        "    \n",
        "    while not stop_condition:\n",
        "        output_tokens, h, c = decoder_model.predict([target_seq] + [enc_output, enc_h, enc_c ])\n",
        "        \n",
        "        # Sample a token\n",
        "        sampled_token_index = np.argmax(output_tokens[0, -1, :])\n",
        "        # print(f'sampled_token_index {sampled_token_index}')\n",
        "        if sampled_token_index == 0:\n",
        "          break\n",
        "        # convert max index number to marathi word\n",
        "        sampled_char = fr_index_word[sampled_token_index]\n",
        "        # print(f'sampled_char: {sampled_char}')\n",
        "        # aapend it to decoded sent\n",
        "        decoded_sentence += ' '+sampled_char\n",
        "        # print(f'decoded_sentence: {decoded_sentence}')\n",
        "\n",
        "        # Exit condition: either hit max length or find stop token.\n",
        "        if (sampled_char == 'eos' or len(decoded_sentence.split()) >= vocab_size_fr):\n",
        "            stop_condition = True\n",
        "        \n",
        "        # Update the target sequence (of length 1).\n",
        "        target_seq = np.zeros((1,1))\n",
        "        target_seq[0, 0] = sampled_token_index\n",
        "        \n",
        "        # Update states\n",
        "        enc_h, enc_c = h, c\n",
        "    \n",
        "    return decoded_sentence"
      ],
      "metadata": {
        "id": "E4sSaLbroM2_"
      },
      "execution_count": null,
      "outputs": []
    },
    {
      "cell_type": "code",
      "source": [
        "# English Word --> index dictionary\n",
        "eng_index_word = tokenizer_eng.index_word\n",
        "eng_word_index = tokenizer_eng.word_index\n",
        "# French Index --> word dict\n",
        "fr_index_word = tokenizer_fr.index_word\n",
        "fr_word_index = tokenizer_fr.word_index\n",
        "# we need actual French sentence so crate fuction to convert back tokens into words\n",
        "def get_French_sentence(input_sequence):\n",
        "    sentence =''\n",
        "    for i in input_sequence:\n",
        "      if i!=0 :\n",
        "        sentence =sentence +fr_index_word[i]+' '\n",
        "    return sentence \n",
        "\n",
        "# same as above we want input english sentence so create function\n",
        "def get_english_sentence(input_sequence):\n",
        "    sentence =''\n",
        "    for i in input_sequence:\n",
        "      if i!=0:\n",
        "        sentence =sentence +eng_index_word[i]+' '\n",
        "    return sentence     \n",
        "\n",
        "# using simple loop we will take 15 random numbers from x_test and get results\n",
        "for i in np.random.randint(10, 1000, size=15):\n",
        "  print(\"English Sentence:\",get_english_sentence(X_test_pad[i]))\n",
        "  print(\"Actual French Sentence:\",get_French_sentence(y_test_pad[i])[4:-4])\n",
        "  # Before passing input it has to be reshape as following\n",
        "  print(\"Predicted French Translation:\",get_predicted_sentence(X_test_pad[i].reshape(1,eng_max_length))[:-4])\n",
        "  print(\"----------------------------------------------------------------------------------------\")\n",
        "   "
      ],
      "metadata": {
        "colab": {
          "base_uri": "https://localhost:8080/"
        },
        "id": "lLcxHX-8oQrU",
        "outputId": "7e573673-14ca-4399-b4d3-5d0cc2b3a2dc"
      },
      "execution_count": null,
      "outputs": [
        {
          "output_type": "stream",
          "name": "stdout",
          "text": [
            "English Sentence: his least liked fruit is the peach but my least liked is the orange \n",
            "Actual French Sentence: fruit est moins aimé la pêche mais mon moins aimé est l'ora\n",
            "Predicted French Translation:  moins aimé est la pêche mais mon moins aimé est l'or\n",
            "----------------------------------------------------------------------------------------\n",
            "English Sentence: the orange is your most loved fruit but the peach is her most loved \n",
            "Actual French Sentence: ange est votre fruit le plus aimé mais la pêche est la plus ai\n",
            "Predicted French Translation:  est votre fruit le plus aimé mais la pêche elle est le plus \n",
            "----------------------------------------------------------------------------------------\n",
            "English Sentence: new jersey is usually chilly during march but it is sometimes freezing in fall \n",
            "Actual French Sentence: jersey est généralement froid en mars mais il est parfois le gel à l auto\n",
            "Predicted French Translation:  est généralement froid en mars mais il est parfois le gel à l aut\n",
            "----------------------------------------------------------------------------------------\n",
            "English Sentence: france is never dry during september and it is sometimes cold in august \n",
            "Actual French Sentence: rance est jamais à sec en septembre et il est parfois froid en a\n",
            "Predicted French Translation:  est jamais sec en septembre et il est parfois froid en \n",
            "----------------------------------------------------------------------------------------\n",
            "English Sentence: i dislike grapefruit lemons and strawberries \n",
            "Actual French Sentence: 'aime pamplemousses les citrons et les frai\n",
            "Predicted French Translation:  n'aime pamplemousses et les fra\n",
            "----------------------------------------------------------------------------------------\n",
            "English Sentence: paris is sometimes mild during december and it is sometimes chilly in winter \n",
            "Actual French Sentence: s est parfois doux en décembre et il est parfois froid en hi\n",
            "Predicted French Translation:  est parfois doux en décembre et il est parfois froid en h\n",
            "----------------------------------------------------------------------------------------\n",
            "English Sentence: france is sometimes cold during january and it is never beautiful in summer \n",
            "Actual French Sentence: rance est parfois froid en janvier et il est jamais beau en \n",
            "Predicted French Translation:  est parfois froid en janvier et il est jamais beau en\n",
            "----------------------------------------------------------------------------------------\n",
            "English Sentence: i dislike grapefruit lemons and strawberries \n",
            "Actual French Sentence: 'aime pamplemousses les citrons et les frai\n",
            "Predicted French Translation:  n'aime pamplemousses et les fra\n",
            "----------------------------------------------------------------------------------------\n",
            "English Sentence: the peach is your least favorite fruit but the grape is my least favorite \n",
            "Actual French Sentence: êche est votre fruit préféré moins mais le raisin est mon préféré mo\n",
            "Predicted French Translation:  pêche est votre fruit préféré moins mais le raisin est mon préféré m\n",
            "----------------------------------------------------------------------------------------\n",
            "English Sentence: his least liked fruit is the lemon but my least liked is the grapefruit \n",
            "Actual French Sentence: fruit est moins aimé le citron mais mon moins aimé est le pamplemou\n",
            "Predicted French Translation:  fruit est moins aimé le citron mais mon moins aimé est le pamplemo\n",
            "----------------------------------------------------------------------------------------\n",
            "English Sentence: new jersey is usually chilly during spring but it is quiet in may \n",
            "Actual French Sentence: jersey est généralement froid au printemps mais il est calme en \n",
            "Predicted French Translation:  est généralement froid au printemps mais il est calme en\n",
            "----------------------------------------------------------------------------------------\n",
            "English Sentence: the lime is their least favorite fruit but the peach is my least favorite \n",
            "Actual French Sentence: haux est leur fruit préféré moins mais la pêche est mon préféré mo\n",
            "Predicted French Translation:  est leur fruit préféré moins mais la pêche est mon préféré m\n",
            "----------------------------------------------------------------------------------------\n",
            "English Sentence: new jersey is sometimes rainy during spring but it is quiet in summer \n",
            "Actual French Sentence: jersey est parfois pluvieux au printemps mais il est calme en \n",
            "Predicted French Translation:  est parfois pluvieux au printemps mais il est calme en\n",
            "----------------------------------------------------------------------------------------\n",
            "English Sentence: they plan to visit india next winter \n",
            "Actual French Sentence: ont l intention de visiter l inde l hiver proch\n",
            "Predicted French Translation:  ont l intention de visiter l inde l hiver proc\n",
            "----------------------------------------------------------------------------------------\n",
            "English Sentence: he liked the old black automobile \n",
            "Actual French Sentence: imait la vieille voiture no\n",
            "Predicted French Translation:  aimait la vieille voiture n\n",
            "----------------------------------------------------------------------------------------\n"
          ]
        }
      ]
    },
    {
      "cell_type": "code",
      "source": [
        "get_predicted_sentence(X_test_pad[0].reshape(1,eng_max_length))"
      ],
      "metadata": {
        "colab": {
          "base_uri": "https://localhost:8080/",
          "height": 36
        },
        "id": "ydT_o_6GOsrf",
        "outputId": "42f991f3-162c-439d-e921-47b0ce034903"
      },
      "execution_count": null,
      "outputs": [
        {
          "output_type": "execute_result",
          "data": {
            "text/plain": [
              "' est généralement occupé en septembre mais il est parfois froid au printemps'"
            ],
            "application/vnd.google.colaboratory.intrinsic+json": {
              "type": "string"
            }
          },
          "metadata": {},
          "execution_count": 253
        }
      ]
    },
    {
      "cell_type": "code",
      "source": [
        "pred = pd.DataFrame([\"she is driving the truck\"], columns=['sen_to_pred'])\n",
        "p = pred['sen_to_pred']\n",
        "p_tk = tokenizer_eng.texts_to_sequences(p)\n",
        "p_pad = pad_sequences(p_tk, maxlen=eng_max_length, padding='post')\n",
        "get_predicted_sentence(p_pad[0].reshape(1,eng_max_length))"
      ],
      "metadata": {
        "colab": {
          "base_uri": "https://localhost:8080/",
          "height": 36
        },
        "id": "kNunooKKKLQt",
        "outputId": "613fea2e-ace2-4102-c633-47d55ab5436a"
      },
      "execution_count": null,
      "outputs": [
        {
          "output_type": "execute_result",
          "data": {
            "text/plain": [
              "' le camion rouge'"
            ],
            "application/vnd.google.colaboratory.intrinsic+json": {
              "type": "string"
            }
          },
          "metadata": {},
          "execution_count": 272
        }
      ]
    },
    {
      "cell_type": "markdown",
      "source": [
        "It is not translating well words that are new. We dont know yet what is the main problem. It may be overfit as it reached more than 90% acc in the second epoch only as acc is not a reliable metric for NLP appications. To solve it a bit we introduced a Dropout Layer. (When we added the droupout, we used a rate of 0.3, the learning became so slow so we reduced it)\n",
        "\n",
        "Maybe using Teacher Forcing would sldo help the training.\n",
        "\n",
        "We noticed that the validation accuracy is much higher than the training accuracy.\n",
        "\n",
        "At least we tried. 😀 🚀"
      ],
      "metadata": {
        "id": "3_0bVXmZRfG2"
      }
    }
  ],
  "metadata": {
    "accelerator": "GPU",
    "colab": {
      "collapsed_sections": [],
      "provenance": []
    },
    "kernelspec": {
      "display_name": "Python 3",
      "name": "python3"
    },
    "language_info": {
      "name": "python"
    }
  },
  "nbformat": 4,
  "nbformat_minor": 0
}